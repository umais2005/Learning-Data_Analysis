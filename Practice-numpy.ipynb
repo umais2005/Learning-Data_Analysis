{
 "cells": [
  {
   "cell_type": "code",
   "execution_count": 35,
   "id": "1ea921b1-0ca4-4ee4-acd4-c86fc53ea8d1",
   "metadata": {},
   "outputs": [],
   "source": [
    "import random\n",
    "import numpy as np"
   ]
  },
  {
   "cell_type": "code",
   "execution_count": null,
   "id": "e60389d8-c578-4d11-acd3-32d81d4754e8",
   "metadata": {},
   "outputs": [],
   "source": []
  },
  {
   "cell_type": "code",
   "execution_count": 36,
   "id": "99572fb0-663e-463a-8286-de4a1ad05d70",
   "metadata": {},
   "outputs": [],
   "source": [
    "arr = np.zeros((2,2,3))"
   ]
  },
  {
   "cell_type": "code",
   "execution_count": 37,
   "id": "a4427bd7-b65f-4e34-b5f2-f047155b4606",
   "metadata": {},
   "outputs": [],
   "source": [
    "arr[1:2] = 4"
   ]
  },
  {
   "cell_type": "code",
   "execution_count": 38,
   "id": "3d5028e8-53fa-4643-ba9d-412a82a7c5fa",
   "metadata": {},
   "outputs": [
    {
     "data": {
      "text/plain": [
       "array([[[0., 0., 0.],\n",
       "        [0., 0., 0.]],\n",
       "\n",
       "       [[4., 4., 4.],\n",
       "        [4., 4., 4.]]])"
      ]
     },
     "execution_count": 38,
     "metadata": {},
     "output_type": "execute_result"
    }
   ],
   "source": [
    "arr"
   ]
  },
  {
   "cell_type": "code",
   "execution_count": 39,
   "id": "8c2558a2-d439-418c-aaf3-f9c0e15866f5",
   "metadata": {},
   "outputs": [],
   "source": [
    "arr = np.zeros((2,3))"
   ]
  },
  {
   "cell_type": "code",
   "execution_count": 40,
   "id": "57cc14d8-c737-424f-817c-60db0158fdbd",
   "metadata": {},
   "outputs": [
    {
     "data": {
      "text/plain": [
       "array([[6., 6., 6.],\n",
       "       [6., 6., 6.]])"
      ]
     },
     "execution_count": 40,
     "metadata": {},
     "output_type": "execute_result"
    }
   ],
   "source": [
    "arr + random.randint(0,10)"
   ]
  },
  {
   "cell_type": "code",
   "execution_count": 41,
   "id": "e79dad4a-bb3c-4935-888a-bdaf9232184f",
   "metadata": {},
   "outputs": [
    {
     "data": {
      "text/plain": [
       "array([[0., 0., 0.],\n",
       "       [0., 0., 0.]])"
      ]
     },
     "execution_count": 41,
     "metadata": {},
     "output_type": "execute_result"
    }
   ],
   "source": [
    "arr"
   ]
  },
  {
   "cell_type": "code",
   "execution_count": 42,
   "id": "09b69ddf-a1f7-444d-b3d0-161cd79be082",
   "metadata": {},
   "outputs": [
    {
     "data": {
      "text/plain": [
       "array([[0.],\n",
       "       [0.]])"
      ]
     },
     "execution_count": 42,
     "metadata": {},
     "output_type": "execute_result"
    }
   ],
   "source": [
    "arr[:, :1]"
   ]
  },
  {
   "cell_type": "code",
   "execution_count": 54,
   "id": "85ccf535-3314-4cb2-9201-e2763a23a29f",
   "metadata": {},
   "outputs": [
    {
     "data": {
      "text/plain": [
       "array([[1., 1., 1.]])"
      ]
     },
     "execution_count": 54,
     "metadata": {},
     "output_type": "execute_result"
    }
   ],
   "source": [
    "arr[1:, :]"
   ]
  },
  {
   "cell_type": "code",
   "execution_count": 44,
   "id": "b89aac07-41ba-4584-a804-cf7d52293d39",
   "metadata": {},
   "outputs": [],
   "source": [
    "arr[1] = 1"
   ]
  },
  {
   "cell_type": "code",
   "execution_count": 55,
   "id": "a86751c9-4304-4c6f-ade4-a94361b85d24",
   "metadata": {},
   "outputs": [
    {
     "data": {
      "text/plain": [
       "array([[0., 0., 0.],\n",
       "       [1., 1., 1.]])"
      ]
     },
     "execution_count": 55,
     "metadata": {},
     "output_type": "execute_result"
    }
   ],
   "source": [
    "arr"
   ]
  },
  {
   "cell_type": "code",
   "execution_count": 56,
   "id": "d5fa12f0-f8fe-4162-9488-ba7e84c0f6e0",
   "metadata": {},
   "outputs": [],
   "source": [
    "names = np.array([\"Bob\", \"Joe\", \"Will\", \"Bob\", \"Will\", \"Joe\", \"Joe\"])"
   ]
  },
  {
   "cell_type": "code",
   "execution_count": 59,
   "id": "eb34b617-935a-48de-b887-86041501b8d1",
   "metadata": {},
   "outputs": [
    {
     "data": {
      "text/plain": [
       "array([ True, False,  True,  True,  True, False, False])"
      ]
     },
     "execution_count": 59,
     "metadata": {},
     "output_type": "execute_result"
    }
   ],
   "source": [
    "names != \"Joe\""
   ]
  },
  {
   "cell_type": "code",
   "execution_count": 60,
   "id": "145765c7-dcd2-4cbf-9c6a-bed62bf8f09d",
   "metadata": {},
   "outputs": [],
   "source": [
    "data = np.array([[4, 7], [0, 2], [-5, 6], [0, 0], [1, 2],[-12, -4], [3, 4]])"
   ]
  },
  {
   "cell_type": "code",
   "execution_count": 87,
   "id": "bfa8bed7-9ba2-45d3-89bf-49d73f54c5d0",
   "metadata": {},
   "outputs": [
    {
     "data": {
      "text/plain": [
       "array([[  4,   7],\n",
       "       [  0,   2],\n",
       "       [ -5,   6],\n",
       "       [  0,   0],\n",
       "       [  1,   2],\n",
       "       [-12,  -4],\n",
       "       [  3,   4]])"
      ]
     },
     "execution_count": 87,
     "metadata": {},
     "output_type": "execute_result"
    }
   ],
   "source": [
    "data"
   ]
  },
  {
   "cell_type": "code",
   "execution_count": 88,
   "id": "ea5216a5-a2e4-4c4a-93d1-37b2f73172a0",
   "metadata": {},
   "outputs": [
    {
     "data": {
      "text/plain": [
       "array([[ 4,  7],\n",
       "       [-5,  6],\n",
       "       [ 1,  2]])"
      ]
     },
     "execution_count": 88,
     "metadata": {},
     "output_type": "execute_result"
    }
   ],
   "source": [
    "data[[0,2,4]]"
   ]
  },
  {
   "cell_type": "code",
   "execution_count": 91,
   "id": "b6f4b543-70d9-4956-81a8-3ce55775df64",
   "metadata": {},
   "outputs": [
    {
     "data": {
      "text/plain": [
       "array([-5,  6])"
      ]
     },
     "execution_count": 91,
     "metadata": {},
     "output_type": "execute_result"
    }
   ],
   "source": [
    "data[2]"
   ]
  },
  {
   "cell_type": "code",
   "execution_count": 97,
   "id": "58cad563-db0e-4e50-ab04-608c3638e408",
   "metadata": {},
   "outputs": [
    {
     "data": {
      "text/plain": [
       "array([[ 0,  1,  2,  3],\n",
       "       [ 4,  5,  6,  7],\n",
       "       [ 8,  9, 10, 11],\n",
       "       [12, 13, 14, 15],\n",
       "       [16, 17, 18, 19],\n",
       "       [20, 21, 22, 23],\n",
       "       [24, 25, 26, 27],\n",
       "       [28, 29, 30, 31]])"
      ]
     },
     "execution_count": 97,
     "metadata": {},
     "output_type": "execute_result"
    }
   ],
   "source": [
    "arr = np.arange(32).reshape((8,4))\n",
    "arr"
   ]
  },
  {
   "cell_type": "code",
   "execution_count": 108,
   "id": "1f96a375-feff-411b-83d1-2b53c8cb457c",
   "metadata": {},
   "outputs": [
    {
     "data": {
      "text/plain": [
       "array([[ 4,  5,  6,  7],\n",
       "       [ 8,  9, 10, 11],\n",
       "       [12, 13, 14, 15],\n",
       "       [16, 17, 18, 19]])"
      ]
     },
     "execution_count": 108,
     "metadata": {},
     "output_type": "execute_result"
    }
   ],
   "source": [
    "arr[[1,2,3,4]]  #[:, [0, 3, 1, 2]]"
   ]
  },
  {
   "cell_type": "code",
   "execution_count": 117,
   "id": "883bf8c7-c8f2-4c60-8736-ece53791457c",
   "metadata": {},
   "outputs": [
    {
     "data": {
      "text/plain": [
       "array([ 8,  9, 10, 11])"
      ]
     },
     "execution_count": 117,
     "metadata": {},
     "output_type": "execute_result"
    }
   ],
   "source": [
    "arr[[1,2,4,3]][]"
   ]
  },
  {
   "cell_type": "code",
   "execution_count": null,
   "id": "334a877c-e7e3-497a-bba9-73f93f498d85",
   "metadata": {},
   "outputs": [],
   "source": []
  },
  {
   "cell_type": "code",
   "execution_count": 144,
   "id": "dca66aff-2293-46df-985c-ae6a529fc8b4",
   "metadata": {},
   "outputs": [
    {
     "data": {
      "text/plain": [
       "array([[1., 1., 1., 1., 1.],\n",
       "       [1., 1., 1., 1., 1.],\n",
       "       [1., 1., 1., 1., 1.],\n",
       "       [1., 1., 1., 1., 1.],\n",
       "       [1., 1., 1., 1., 1.]])"
      ]
     },
     "execution_count": 144,
     "metadata": {},
     "output_type": "execute_result"
    }
   ],
   "source": [
    "answer = np.ones((5,5))\n",
    "answer"
   ]
  },
  {
   "cell_type": "code",
   "execution_count": 145,
   "id": "d6ed04fb-622b-4133-b75a-f267a433cced",
   "metadata": {},
   "outputs": [],
   "source": [
    "answer[1:4,1:4] = 0\n"
   ]
  },
  {
   "cell_type": "code",
   "execution_count": 149,
   "id": "2910fbec-ba3b-4eb2-ac89-9ed079508833",
   "metadata": {},
   "outputs": [],
   "source": [
    "answer[2,2]=1"
   ]
  },
  {
   "cell_type": "code",
   "execution_count": 150,
   "id": "b39d1b0c-be0d-4102-99f2-e5581bd13e95",
   "metadata": {},
   "outputs": [
    {
     "data": {
      "text/plain": [
       "array([[1., 1., 1., 1., 1.],\n",
       "       [1., 0., 0., 0., 1.],\n",
       "       [1., 0., 1., 0., 1.],\n",
       "       [1., 0., 0., 0., 1.],\n",
       "       [1., 1., 1., 1., 1.]])"
      ]
     },
     "execution_count": 150,
     "metadata": {},
     "output_type": "execute_result"
    }
   ],
   "source": [
    "answer"
   ]
  },
  {
   "cell_type": "code",
   "execution_count": 164,
   "id": "9c27e126-8463-40cf-a68e-59f2e75a603f",
   "metadata": {},
   "outputs": [
    {
     "data": {
      "text/plain": [
       "array([[1, 7, 1, 3, 6],\n",
       "       [8, 9, 9, 7, 5],\n",
       "       [4, 8, 6, 4, 9],\n",
       "       [3, 5, 8, 9, 2],\n",
       "       [1, 2, 3, 9, 9]])"
      ]
     },
     "execution_count": 164,
     "metadata": {},
     "output_type": "execute_result"
    }
   ],
   "source": [
    "arr = np.random.randint(1,10,(5,5))\n",
    "arr"
   ]
  },
  {
   "cell_type": "code",
   "execution_count": 167,
   "id": "9707947a-690a-4f3f-9350-d1f378ee7bff",
   "metadata": {},
   "outputs": [
    {
     "name": "stdout",
     "output_type": "stream",
     "text": [
      "[1 1 3 3 2 1 2 3]\n"
     ]
    }
   ],
   "source": [
    "e = arr[arr <= 3]\n",
    "print(e)"
   ]
  }
 ],
 "metadata": {
  "kernelspec": {
   "display_name": "Python 3 (ipykernel)",
   "language": "python",
   "name": "python3"
  },
  "language_info": {
   "codemirror_mode": {
    "name": "ipython",
    "version": 3
   },
   "file_extension": ".py",
   "mimetype": "text/x-python",
   "name": "python",
   "nbconvert_exporter": "python",
   "pygments_lexer": "ipython3",
   "version": "3.11.8"
  }
 },
 "nbformat": 4,
 "nbformat_minor": 5
}
