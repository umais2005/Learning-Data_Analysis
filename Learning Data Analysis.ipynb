{
 "cells": [
  {
   "cell_type": "code",
   "execution_count": 1,
   "id": "96c8eb3f-5dcb-4c8f-9329-ebb0c6957272",
   "metadata": {},
   "outputs": [
    {
     "name": "stderr",
     "output_type": "stream",
     "text": [
      "C:\\Users\\umais\\AppData\\Local\\Temp\\ipykernel_12244\\265554930.py:2: DeprecationWarning: \n",
      "Pyarrow will become a required dependency of pandas in the next major release of pandas (pandas 3.0),\n",
      "(to allow more performant data types, such as the Arrow string type, and better interoperability with other libraries)\n",
      "but was not found to be installed on your system.\n",
      "If this would cause problems for you,\n",
      "please provide us feedback at https://github.com/pandas-dev/pandas/issues/54466\n",
      "        \n",
      "  import pandas as pd\n"
     ]
    }
   ],
   "source": [
    "import numpy as np\n",
    "import pandas as pd\n",
    "import matplotlib.pyplot as plt\n",
    "import seaborn as sns"
   ]
  },
  {
   "cell_type": "code",
   "execution_count": 2,
   "id": "cc37c674",
   "metadata": {
    "tags": []
   },
   "outputs": [
    {
     "name": "stdout",
     "output_type": "stream",
     "text": [
      "[[ 4  5  6  7]\n",
      " [ 8  9 10 11]\n",
      " [12 13 14 15]]\n",
      "\n",
      "[[ 4  5  6  7]\n",
      " [ 8  9 10 11]\n",
      " [12 13 14 15]]\n"
     ]
    }
   ],
   "source": [
    "arr = np.arange(32).reshape((8,4))\n",
    "print(arr[[1,2,3]])\n",
    "print(\"\")\n",
    "print(arr[[1,2,3]][:,:][:,:])\n"
   ]
  },
  {
   "cell_type": "code",
   "execution_count": 3,
   "id": "0ff5d003",
   "metadata": {
    "tags": []
   },
   "outputs": [
    {
     "data": {
      "text/plain": [
       "<matplotlib.colorbar.Colorbar at 0x171d6384350>"
      ]
     },
     "execution_count": 3,
     "metadata": {},
     "output_type": "execute_result"
    },
    {
     "data": {
      "image/png": "[encoded data removed]",
      "text/plain": [
       "<Figure size 640x480 with 2 Axes>"
      ]
     },
     "metadata": {},
     "output_type": "display_data"
    }
   ],
   "source": [
    "points = np.arange(-5,5,0.01)\n",
    "x,y = np.meshgrid(points,points)\n",
    "# print(x)\n",
    "points = np.array([[1,2,3,4],\n",
    "                  [5,6,7,8]])\n",
    "# print(x)\n",
    "plt.imshow(points, cmap=plt.cm.gray, extent = [-5,5,-5,5])\n",
    "plt.colorbar()"
   ]
  },
  {
   "cell_type": "code",
   "execution_count": 4,
   "id": "b5b2903a",
   "metadata": {
    "tags": []
   },
   "outputs": [
    {
     "data": {
      "text/plain": [
       "array([3, 2, 2, 2, 3])"
      ]
     },
     "execution_count": 4,
     "metadata": {},
     "output_type": "execute_result"
    }
   ],
   "source": [
    "np.where([True,False,False,False,True],3,2)"
   ]
  },
  {
   "cell_type": "code",
   "execution_count": 5,
   "id": "c9193067",
   "metadata": {
    "tags": []
   },
   "outputs": [],
   "source": [
    "import numpy as np\n",
    "import matplotlib.pyplot as plt\n",
    "import pandas as pd\n",
    "from pandas import Series, DataFrame\n"
   ]
  },
  {
   "cell_type": "code",
   "execution_count": 6,
   "id": "e291ff95",
   "metadata": {
    "tags": []
   },
   "outputs": [],
   "source": [
    "arr = [1,2,3,4,5]\n",
    "np.random.shuffle(arr)"
   ]
  },
  {
   "cell_type": "code",
   "execution_count": 7,
   "id": "1a3977dd-536e-4356-bbe9-3b6b03876286",
   "metadata": {},
   "outputs": [
    {
     "name": "stdout",
     "output_type": "stream",
     "text": [
      "[[43 29 29 24]\n",
      " [83 80 78 75]\n",
      " [47 49 77 47]\n",
      " [99 28 64 81]]\n",
      "[[1 1 1 1]\n",
      " [1 1 1 1]\n",
      " [1 1 1 1]\n",
      " [2 2 2 2]]\n"
     ]
    }
   ],
   "source": [
    "corr = np.random.randint(10,100,(4,4))\n",
    "print(corr)\n",
    "arr = np.ones((4, 4), dtype=\"int32\")\n",
    "arr[3] = 2\n",
    "print(arr)\n",
    "arr.min()\n",
    "arr.sort()"
   ]
  },
  {
   "cell_type": "code",
   "execution_count": 8,
   "id": "759db050-04c1-4c5d-ae55-494ad87d2c5b",
   "metadata": {},
   "outputs": [],
   "source": [
    "np.save(\"save\", [1,2,3])"
   ]
  },
  {
   "cell_type": "code",
   "execution_count": 9,
   "id": "da87b1ca-3c74-40a0-8358-efc058feba04",
   "metadata": {},
   "outputs": [
    {
     "data": {
      "text/plain": [
       "array([1, 2, 3])"
      ]
     },
     "execution_count": 9,
     "metadata": {},
     "output_type": "execute_result"
    }
   ],
   "source": [
    "np.load(\"save.npy\")"
   ]
  },
  {
   "cell_type": "code",
   "execution_count": 10,
   "id": "71840abb-b679-49b3-83b1-6d58cae6541d",
   "metadata": {},
   "outputs": [
    {
     "data": {
      "text/plain": [
       "array([[272, 186, 248, 227],\n",
       "       [272, 186, 248, 227],\n",
       "       [272, 186, 248, 227],\n",
       "       [544, 372, 496, 454]])"
      ]
     },
     "execution_count": 10,
     "metadata": {},
     "output_type": "execute_result"
    }
   ],
   "source": [
    "arr @ corr"
   ]
  },
  {
   "cell_type": "code",
   "execution_count": 11,
   "id": "a3240ed2-9264-4f7f-ad18-154635f5a632",
   "metadata": {},
   "outputs": [
    {
     "name": "stdout",
     "output_type": "stream",
     "text": [
      "[[ -1  -2  -1  -2  -1   0  -1  -2  -3  -2  -3  -2  -3  -4  -5  -6  -5  -6\n",
      "   -5  -6  -5  -4  -3  -2  -3  -4  -5  -6  -7  -6  -5  -6  -5  -4  -3  -4\n",
      "   -5  -6  -7  -8  -7  -8  -9 -10 -11 -12 -11 -12 -11 -12 -13 -12 -11 -12\n",
      "  -13 -14 -15 -14 -13 -14 -15 -16 -17 -18 -17 -16 -15 -14 -15 -14 -15 -16\n",
      "  -15 -16 -17 -18 -17 -18 -19 -20 -21 -22 -21 -22 -21 -20 -19 -18 -17 -16\n",
      "  -15 -14 -15 -16 -17 -16 -15 -14 -15 -14]\n",
      " [ -1   0   1   2   3   4   5   6   5   6   5   6   5   6   7   6   7   8\n",
      "    7   8   9  10   9   8   9   8   9  10  11  10   9   8   7   6   7   6\n",
      "    5   6   7   6   7   8   9   8   9   8   7   6   7   8   9   8   9   8\n",
      "    9  10   9  10   9   8   7   8   7   8   7   8   9   8   9  10  11  10\n",
      "   11  12  11  12  13  12  13  14  15  14  15  16  17  18  17  16  17  16\n",
      "   15  16  15  16  17  16  15  14  13  12]\n",
      " [ -1  -2  -3  -4  -5  -6  -5  -6  -5  -6  -7  -6  -5  -6  -5  -4  -3  -2\n",
      "   -1  -2  -3  -2  -3  -2  -1   0  -1   0   1   2   3   2   3   2   3   2\n",
      "    1   0   1   0  -1   0  -1   0   1   0   1   2   3   2   3   2   3   4\n",
      "    5   6   7   6   7   6   7   6   5   6   7   8   9  10  11  12  13  14\n",
      "   15  16  15  16  17  16  15  16  17  18  19  18  19  20  19  20  19  18\n",
      "   19  20  19  20  21  22  23  22  21  20]]\n",
      "3\n"
     ]
    },
    {
     "data": {
      "image/png": "[encoded data removed]",
      "text/plain": [
       "<Figure size 640x480 with 1 Axes>"
      ]
     },
     "metadata": {},
     "output_type": "display_data"
    }
   ],
   "source": [
    "# random walk\n",
    "nwalks = 10\n",
    "steps = 100\n",
    "displacements = np.where(np.random.randint(0, 2, (nwalks, 100)) == 0, 1, -1)\n",
    "# print(displacements)\n",
    "walks = displacements.cumsum(axis=1)\n",
    "abv15 = (np.array(abs(walks) > 15)).any(axis=1)\n",
    "print(walks[abv15])\n",
    "print(abv15.sum())\n",
    "# print(walk)\n",
    "for i in range(nwalks):\n",
    "    plot = plt.plot(walks[i])\n",
    "plt.grid(True)"
   ]
  },
  {
   "cell_type": "code",
   "execution_count": 12,
   "id": "a128cf3a-9386-4479-a078-5134dff02666",
   "metadata": {},
   "outputs": [
    {
     "data": {
      "text/plain": [
       "array([61, 83, 73], dtype=int64)"
      ]
     },
     "execution_count": 12,
     "metadata": {},
     "output_type": "execute_result"
    }
   ],
   "source": [
    "crossingstep = ((np.abs(walks[abv15]) > 15).argmax(axis=1))\n",
    "# crossingstep.dtype = bool\n",
    "\n",
    "crossingstep"
   ]
  },
  {
   "cell_type": "code",
   "execution_count": 13,
   "id": "ffbff190-d294-4035-8058-c83fdd3e881c",
   "metadata": {},
   "outputs": [
    {
     "data": {
      "text/plain": [
       "umais    10\n",
       "wasif    11\n",
       "humxa    14\n",
       "Name: ages, dtype: int64"
      ]
     },
     "execution_count": 13,
     "metadata": {},
     "output_type": "execute_result"
    }
   ],
   "source": [
    "data = {\"umais\":10,\"wasif\":11}\n",
    "sr = Series(data, name=\"ages\")\n",
    "sr[\"humxa\"] = 14\n",
    "sr"
   ]
  },
  {
   "cell_type": "code",
   "execution_count": 14,
   "id": "54cc09ae-7c26-4494-b538-bf19405e1eab",
   "metadata": {},
   "outputs": [
    {
     "data": {
      "text/plain": [
       "Index(['humxa', 'wasif', 'umais'], dtype='object')"
      ]
     },
     "execution_count": 14,
     "metadata": {},
     "output_type": "execute_result"
    }
   ],
   "source": [
    "orderdsr = Series(data, index=[\"humxa\", \"wasif\", \"umais\"], dtype=\"int32\")\n",
    "orderdsr\n",
    "pd.notna(orderdsr)\n",
    "orderdsr[\"umais\"]\n",
    "orderdsr.index\n"
   ]
  },
  {
   "cell_type": "code",
   "execution_count": 15,
   "id": "4118b325-f5fb-4200-aba7-27a07047bcc6",
   "metadata": {
    "scrolled": true
   },
   "outputs": [
    {
     "data": {
      "text/html": [
       "<div>\n",
       "<style scoped>\n",
       "    .dataframe tbody tr th:only-of-type {\n",
       "        vertical-align: middle;\n",
       "    }\n",
       "\n",
       "    .dataframe tbody tr th {\n",
       "        vertical-align: top;\n",
       "    }\n",
       "\n",
       "    .dataframe thead th {\n",
       "        text-align: right;\n",
       "    }\n",
       "</style>\n",
       "<table border=\"1\" class=\"dataframe\">\n",
       "  <thead>\n",
       "    <tr style=\"text-align: right;\">\n",
       "      <th></th>\n",
       "      <th>state</th>\n",
       "      <th>year</th>\n",
       "      <th>pop</th>\n",
       "    </tr>\n",
       "  </thead>\n",
       "  <tbody>\n",
       "    <tr>\n",
       "      <th>0</th>\n",
       "      <td>Ohio</td>\n",
       "      <td>2000</td>\n",
       "      <td>1.5</td>\n",
       "    </tr>\n",
       "    <tr>\n",
       "      <th>1</th>\n",
       "      <td>Ohio</td>\n",
       "      <td>2001</td>\n",
       "      <td>1.7</td>\n",
       "    </tr>\n",
       "    <tr>\n",
       "      <th>2</th>\n",
       "      <td>Ohio</td>\n",
       "      <td>2002</td>\n",
       "      <td>3.6</td>\n",
       "    </tr>\n",
       "    <tr>\n",
       "      <th>3</th>\n",
       "      <td>Nevada</td>\n",
       "      <td>2001</td>\n",
       "      <td>2.4</td>\n",
       "    </tr>\n",
       "    <tr>\n",
       "      <th>4</th>\n",
       "      <td>Nevada</td>\n",
       "      <td>2002</td>\n",
       "      <td>2.9</td>\n",
       "    </tr>\n",
       "    <tr>\n",
       "      <th>5</th>\n",
       "      <td>Nevada</td>\n",
       "      <td>2003</td>\n",
       "      <td>3.2</td>\n",
       "    </tr>\n",
       "  </tbody>\n",
       "</table>\n",
       "</div>"
      ],
      "text/plain": [
       "    state  year  pop\n",
       "0    Ohio  2000  1.5\n",
       "1    Ohio  2001  1.7\n",
       "2    Ohio  2002  3.6\n",
       "3  Nevada  2001  2.4\n",
       "4  Nevada  2002  2.9\n",
       "5  Nevada  2003  3.2"
      ]
     },
     "execution_count": 15,
     "metadata": {},
     "output_type": "execute_result"
    }
   ],
   "source": [
    "data = {\"state\": [\"Ohio\", \"Ohio\", \"Ohio\", \"Nevada\", \"Nevada\",\"Nevada\"],\n",
    " \"year\": [2000, 2001, 2002, 2001, 2002, 2003],\n",
    " \"pop\": [1.5, 1.7, 3.6, 2.4, 2.9, 3.2]}\n",
    "frame = pd.DataFrame(data)\n",
    "frame"
   ]
  },
  {
   "cell_type": "code",
   "execution_count": 16,
   "id": "824d9ecd-5a9d-4446-b708-335d2ab6b73a",
   "metadata": {},
   "outputs": [
    {
     "data": {
      "text/plain": [
       "0    2000\n",
       "1    2001\n",
       "2    2002\n",
       "3    2001\n",
       "4    2002\n",
       "5    2003\n",
       "Name: year, dtype: int64"
      ]
     },
     "execution_count": 16,
     "metadata": {},
     "output_type": "execute_result"
    }
   ],
   "source": [
    "frame = frame.reindex(columns=[\"pop\",\"year\",\"state\"])\n",
    "# frame = frame.loc[[5,4,3,2,1,0],[\"pop\",\"state\",\"year\"]]\n",
    "frame[\"year\"]"
   ]
  },
  {
   "cell_type": "code",
   "execution_count": 17,
   "id": "1fac329f-df9e-4e65-a16a-42633478ad01",
   "metadata": {},
   "outputs": [
    {
     "data": {
      "text/html": [
       "<div>\n",
       "<style scoped>\n",
       "    .dataframe tbody tr th:only-of-type {\n",
       "        vertical-align: middle;\n",
       "    }\n",
       "\n",
       "    .dataframe tbody tr th {\n",
       "        vertical-align: top;\n",
       "    }\n",
       "\n",
       "    .dataframe thead th {\n",
       "        text-align: right;\n",
       "    }\n",
       "</style>\n",
       "<table border=\"1\" class=\"dataframe\">\n",
       "  <thead>\n",
       "    <tr style=\"text-align: right;\">\n",
       "      <th></th>\n",
       "      <th>a</th>\n",
       "      <th>b</th>\n",
       "      <th>c</th>\n",
       "      <th>d</th>\n",
       "    </tr>\n",
       "  </thead>\n",
       "  <tbody>\n",
       "    <tr>\n",
       "      <th>1</th>\n",
       "      <td>5</td>\n",
       "      <td>6</td>\n",
       "      <td>7</td>\n",
       "      <td>8</td>\n",
       "    </tr>\n",
       "    <tr>\n",
       "      <th>2</th>\n",
       "      <td>9</td>\n",
       "      <td>10</td>\n",
       "      <td>11</td>\n",
       "      <td>12</td>\n",
       "    </tr>\n",
       "    <tr>\n",
       "      <th>3</th>\n",
       "      <td>13</td>\n",
       "      <td>14</td>\n",
       "      <td>15</td>\n",
       "      <td>16</td>\n",
       "    </tr>\n",
       "  </tbody>\n",
       "</table>\n",
       "</div>"
      ],
      "text/plain": [
       "    a   b   c   d\n",
       "1   5   6   7   8\n",
       "2   9  10  11  12\n",
       "3  13  14  15  16"
      ]
     },
     "execution_count": 17,
     "metadata": {},
     "output_type": "execute_result"
    }
   ],
   "source": [
    "num = DataFrame(np.arange(1,17).reshape((4,4)), columns=[\"a\",\"b\",\"c\",\"d\"])\n",
    "num.loc[:,:\"d\"][num.c >5]\n",
    "# num"
   ]
  },
  {
   "cell_type": "code",
   "execution_count": 18,
   "id": "06004f27-b01a-4b09-b36c-9ea7997d8228",
   "metadata": {},
   "outputs": [
    {
     "data": {
      "text/plain": [
       "a    13\n",
       "b    14\n",
       "c    15\n",
       "d    16\n",
       "Name: 3, dtype: int32"
      ]
     },
     "execution_count": 18,
     "metadata": {},
     "output_type": "execute_result"
    }
   ],
   "source": [
    "num.iloc[-1]"
   ]
  },
  {
   "cell_type": "code",
   "execution_count": 19,
   "id": "ab0f8180-ecd5-40cd-9891-5598c26e21b4",
   "metadata": {},
   "outputs": [
    {
     "data": {
      "text/html": [
       "<div>\n",
       "<style scoped>\n",
       "    .dataframe tbody tr th:only-of-type {\n",
       "        vertical-align: middle;\n",
       "    }\n",
       "\n",
       "    .dataframe tbody tr th {\n",
       "        vertical-align: top;\n",
       "    }\n",
       "\n",
       "    .dataframe thead th {\n",
       "        text-align: right;\n",
       "    }\n",
       "</style>\n",
       "<table border=\"1\" class=\"dataframe\">\n",
       "  <thead>\n",
       "    <tr style=\"text-align: right;\">\n",
       "      <th></th>\n",
       "      <th>a</th>\n",
       "      <th>b</th>\n",
       "      <th>c</th>\n",
       "      <th>d</th>\n",
       "    </tr>\n",
       "  </thead>\n",
       "  <tbody>\n",
       "    <tr>\n",
       "      <th>Morning</th>\n",
       "      <td>12</td>\n",
       "      <td>5</td>\n",
       "      <td>9</td>\n",
       "      <td>4</td>\n",
       "    </tr>\n",
       "    <tr>\n",
       "      <th>noon</th>\n",
       "      <td>5</td>\n",
       "      <td>9</td>\n",
       "      <td>8</td>\n",
       "      <td>15</td>\n",
       "    </tr>\n",
       "    <tr>\n",
       "      <th>afternoon</th>\n",
       "      <td>12</td>\n",
       "      <td>7</td>\n",
       "      <td>8</td>\n",
       "      <td>11</td>\n",
       "    </tr>\n",
       "    <tr>\n",
       "      <th>evening</th>\n",
       "      <td>2</td>\n",
       "      <td>5</td>\n",
       "      <td>5</td>\n",
       "      <td>5</td>\n",
       "    </tr>\n",
       "  </tbody>\n",
       "</table>\n",
       "</div>"
      ],
      "text/plain": [
       "            a  b  c   d\n",
       "Morning    12  5  9   4\n",
       "noon        5  9  8  15\n",
       "afternoon  12  7  8  11\n",
       "evening     2  5  5   5"
      ]
     },
     "execution_count": 19,
     "metadata": {},
     "output_type": "execute_result"
    }
   ],
   "source": [
    "temps = DataFrame(np.random.randint(17, size=(4,4)), index=[\"Morning\",\"noon\",\"afternoon\",\"evening\"], columns=list(\"abcd\"))\n",
    "temps\n",
    "# temps.mul()"
   ]
  },
  {
   "cell_type": "code",
   "execution_count": 20,
   "id": "079a7e91-e3dc-453b-81c9-20e30af3b2a4",
   "metadata": {},
   "outputs": [
    {
     "data": {
      "text/html": [
       "<div>\n",
       "<style scoped>\n",
       "    .dataframe tbody tr th:only-of-type {\n",
       "        vertical-align: middle;\n",
       "    }\n",
       "\n",
       "    .dataframe tbody tr th {\n",
       "        vertical-align: top;\n",
       "    }\n",
       "\n",
       "    .dataframe thead th {\n",
       "        text-align: right;\n",
       "    }\n",
       "</style>\n",
       "<table border=\"1\" class=\"dataframe\">\n",
       "  <thead>\n",
       "    <tr style=\"text-align: right;\">\n",
       "      <th></th>\n",
       "      <th>a</th>\n",
       "      <th>b</th>\n",
       "      <th>c</th>\n",
       "      <th>d</th>\n",
       "    </tr>\n",
       "  </thead>\n",
       "  <tbody>\n",
       "    <tr>\n",
       "      <th>Morning</th>\n",
       "      <td>12</td>\n",
       "      <td>10</td>\n",
       "      <td>27</td>\n",
       "      <td>16</td>\n",
       "    </tr>\n",
       "    <tr>\n",
       "      <th>noon</th>\n",
       "      <td>5</td>\n",
       "      <td>18</td>\n",
       "      <td>24</td>\n",
       "      <td>60</td>\n",
       "    </tr>\n",
       "    <tr>\n",
       "      <th>afternoon</th>\n",
       "      <td>12</td>\n",
       "      <td>14</td>\n",
       "      <td>24</td>\n",
       "      <td>44</td>\n",
       "    </tr>\n",
       "    <tr>\n",
       "      <th>evening</th>\n",
       "      <td>2</td>\n",
       "      <td>10</td>\n",
       "      <td>15</td>\n",
       "      <td>20</td>\n",
       "    </tr>\n",
       "  </tbody>\n",
       "</table>\n",
       "</div>"
      ],
      "text/plain": [
       "            a   b   c   d\n",
       "Morning    12  10  27  16\n",
       "noon        5  18  24  60\n",
       "afternoon  12  14  24  44\n",
       "evening     2  10  15  20"
      ]
     },
     "execution_count": 20,
     "metadata": {},
     "output_type": "execute_result"
    }
   ],
   "source": [
    "temps.mul([1,2,3,4], axis=\"columns\")"
   ]
  },
  {
   "cell_type": "code",
   "execution_count": 21,
   "id": "ce79ca89-5be7-4669-82a5-0c11c137e199",
   "metadata": {},
   "outputs": [],
   "source": [
    "abv10 = temps.loc[temps.c >10]\n",
    "abv5 = temps.loc[temps.b >5]"
   ]
  },
  {
   "cell_type": "code",
   "execution_count": 22,
   "id": "aef41330-b157-4415-bb67-19831d224fd7",
   "metadata": {},
   "outputs": [
    {
     "data": {
      "text/html": [
       "<div>\n",
       "<style scoped>\n",
       "    .dataframe tbody tr th:only-of-type {\n",
       "        vertical-align: middle;\n",
       "    }\n",
       "\n",
       "    .dataframe tbody tr th {\n",
       "        vertical-align: top;\n",
       "    }\n",
       "\n",
       "    .dataframe thead th {\n",
       "        text-align: right;\n",
       "    }\n",
       "</style>\n",
       "<table border=\"1\" class=\"dataframe\">\n",
       "  <thead>\n",
       "    <tr style=\"text-align: right;\">\n",
       "      <th></th>\n",
       "      <th>a</th>\n",
       "      <th>b</th>\n",
       "      <th>c</th>\n",
       "      <th>d</th>\n",
       "    </tr>\n",
       "  </thead>\n",
       "  <tbody>\n",
       "  </tbody>\n",
       "</table>\n",
       "</div>"
      ],
      "text/plain": [
       "Empty DataFrame\n",
       "Columns: [a, b, c, d]\n",
       "Index: []"
      ]
     },
     "execution_count": 22,
     "metadata": {},
     "output_type": "execute_result"
    }
   ],
   "source": [
    "abv10"
   ]
  },
  {
   "cell_type": "code",
   "execution_count": 23,
   "id": "85848056-aeb2-4874-a53d-23d0cb6c4b0d",
   "metadata": {},
   "outputs": [],
   "source": [
    "def farenheit(celsius):\n",
    "    return (9/5 * celsius) + 32\n",
    "def whole(float):\n",
    "    return f\"{float:.0f}\"\n",
    "def diff(row):\n",
    "    return row.max()-row.min()"
   ]
  },
  {
   "cell_type": "code",
   "execution_count": 24,
   "id": "b76b583c-ac11-4ed8-9af9-e06484bd5d89",
   "metadata": {},
   "outputs": [
    {
     "data": {
      "text/plain": [
       "Morning      45.50\n",
       "noon         48.65\n",
       "afternoon    49.10\n",
       "evening      39.65\n",
       "Name: Mean TEmps, dtype: float64"
      ]
     },
     "execution_count": 24,
     "metadata": {},
     "output_type": "execute_result"
    }
   ],
   "source": [
    "f_temps = temps.map(farenheit)\n",
    "# print(f_temps)\n",
    "means = f_temps.mean(axis=\"columns\")\n",
    "means.name = \"Mean TEmps\"\n",
    "means\n"
   ]
  },
  {
   "cell_type": "code",
   "execution_count": null,
   "id": "bc75617f-c57f-4681-8dd0-8be197486ea5",
   "metadata": {},
   "outputs": [],
   "source": []
  },
  {
   "cell_type": "code",
   "execution_count": 25,
   "id": "5f9b75b2-b32d-477f-a2de-7c6483ddbf37",
   "metadata": {},
   "outputs": [
    {
     "data": {
      "text/html": [
       "<div>\n",
       "<style scoped>\n",
       "    .dataframe tbody tr th:only-of-type {\n",
       "        vertical-align: middle;\n",
       "    }\n",
       "\n",
       "    .dataframe tbody tr th {\n",
       "        vertical-align: top;\n",
       "    }\n",
       "\n",
       "    .dataframe thead th {\n",
       "        text-align: right;\n",
       "    }\n",
       "</style>\n",
       "<table border=\"1\" class=\"dataframe\">\n",
       "  <thead>\n",
       "    <tr style=\"text-align: right;\">\n",
       "      <th></th>\n",
       "      <th>a</th>\n",
       "      <th>b</th>\n",
       "      <th>c</th>\n",
       "      <th>d</th>\n",
       "    </tr>\n",
       "  </thead>\n",
       "  <tbody>\n",
       "  </tbody>\n",
       "</table>\n",
       "</div>"
      ],
      "text/plain": [
       "Empty DataFrame\n",
       "Columns: [a, b, c, d]\n",
       "Index: []"
      ]
     },
     "execution_count": 25,
     "metadata": {},
     "output_type": "execute_result"
    }
   ],
   "source": [
    "mask = temps.b.isin([10])\n",
    "temps[temps.b == 10]\n",
    "# temps[mask]"
   ]
  },
  {
   "cell_type": "code",
   "execution_count": 26,
   "id": "603bce80-b4fc-4b48-9e4c-54fd59e2cc77",
   "metadata": {},
   "outputs": [
    {
     "data": {
      "text/plain": [
       "count     4.000000\n",
       "mean      7.750000\n",
       "std       5.057997\n",
       "min       2.000000\n",
       "25%       4.250000\n",
       "50%       8.500000\n",
       "75%      12.000000\n",
       "max      12.000000\n",
       "Name: a, dtype: float64"
      ]
     },
     "execution_count": 26,
     "metadata": {},
     "output_type": "execute_result"
    }
   ],
   "source": [
    "temps.a.describe()"
   ]
  },
  {
   "cell_type": "code",
   "execution_count": 27,
   "id": "618c657e-52ef-4306-b772-bc7ca28740e0",
   "metadata": {},
   "outputs": [
    {
     "data": {
      "text/html": [
       "<div>\n",
       "<style scoped>\n",
       "    .dataframe tbody tr th:only-of-type {\n",
       "        vertical-align: middle;\n",
       "    }\n",
       "\n",
       "    .dataframe tbody tr th {\n",
       "        vertical-align: top;\n",
       "    }\n",
       "\n",
       "    .dataframe thead th {\n",
       "        text-align: right;\n",
       "    }\n",
       "</style>\n",
       "<table border=\"1\" class=\"dataframe\">\n",
       "  <thead>\n",
       "    <tr style=\"text-align: right;\">\n",
       "      <th></th>\n",
       "      <th>a</th>\n",
       "      <th>b</th>\n",
       "      <th>c</th>\n",
       "      <th>d</th>\n",
       "      <th>e</th>\n",
       "    </tr>\n",
       "  </thead>\n",
       "  <tbody>\n",
       "    <tr>\n",
       "      <th>morning</th>\n",
       "      <td>24</td>\n",
       "      <td>10</td>\n",
       "      <td>18</td>\n",
       "      <td>8</td>\n",
       "      <td>1.0</td>\n",
       "    </tr>\n",
       "    <tr>\n",
       "      <th>noon</th>\n",
       "      <td>10</td>\n",
       "      <td>18</td>\n",
       "      <td>16</td>\n",
       "      <td>30</td>\n",
       "      <td>2.0</td>\n",
       "    </tr>\n",
       "    <tr>\n",
       "      <th>afternoon</th>\n",
       "      <td>24</td>\n",
       "      <td>14</td>\n",
       "      <td>16</td>\n",
       "      <td>22</td>\n",
       "      <td>3.0</td>\n",
       "    </tr>\n",
       "    <tr>\n",
       "      <th>evening</th>\n",
       "      <td>4</td>\n",
       "      <td>10</td>\n",
       "      <td>10</td>\n",
       "      <td>10</td>\n",
       "      <td>4.0</td>\n",
       "    </tr>\n",
       "  </tbody>\n",
       "</table>\n",
       "</div>"
      ],
      "text/plain": [
       "            a   b   c   d    e\n",
       "morning    24  10  18   8  1.0\n",
       "noon       10  18  16  30  2.0\n",
       "afternoon  24  14  16  22  3.0\n",
       "evening     4  10  10  10  4.0"
      ]
     },
     "execution_count": 27,
     "metadata": {},
     "output_type": "execute_result"
    }
   ],
   "source": [
    "temps.rename({\"Morning\": \"morning\"}, inplace=True)\n",
    "s_temps = temps.copy()\n",
    "s_temps[\"e\"] = [1,2,3,4]\n",
    "s_temps.add(temps, fill_value=0)"
   ]
  },
  {
   "cell_type": "code",
   "execution_count": 28,
   "id": "0a054177-db27-4cba-9010-a08d52ea9a59",
   "metadata": {},
   "outputs": [
    {
     "data": {
      "text/html": [
       "<div>\n",
       "<style scoped>\n",
       "    .dataframe tbody tr th:only-of-type {\n",
       "        vertical-align: middle;\n",
       "    }\n",
       "\n",
       "    .dataframe tbody tr th {\n",
       "        vertical-align: top;\n",
       "    }\n",
       "\n",
       "    .dataframe thead th {\n",
       "        text-align: right;\n",
       "    }\n",
       "</style>\n",
       "<table border=\"1\" class=\"dataframe\">\n",
       "  <thead>\n",
       "    <tr style=\"text-align: right;\">\n",
       "      <th></th>\n",
       "      <th>a</th>\n",
       "      <th>b</th>\n",
       "      <th>c</th>\n",
       "      <th>d</th>\n",
       "    </tr>\n",
       "  </thead>\n",
       "  <tbody>\n",
       "    <tr>\n",
       "      <th>morning</th>\n",
       "      <td>12</td>\n",
       "      <td>5</td>\n",
       "      <td>9</td>\n",
       "      <td>4</td>\n",
       "    </tr>\n",
       "    <tr>\n",
       "      <th>noon</th>\n",
       "      <td>5</td>\n",
       "      <td>9</td>\n",
       "      <td>8</td>\n",
       "      <td>15</td>\n",
       "    </tr>\n",
       "    <tr>\n",
       "      <th>afternoon</th>\n",
       "      <td>12</td>\n",
       "      <td>7</td>\n",
       "      <td>8</td>\n",
       "      <td>11</td>\n",
       "    </tr>\n",
       "    <tr>\n",
       "      <th>evening</th>\n",
       "      <td>2</td>\n",
       "      <td>5</td>\n",
       "      <td>5</td>\n",
       "      <td>5</td>\n",
       "    </tr>\n",
       "  </tbody>\n",
       "</table>\n",
       "</div>"
      ],
      "text/plain": [
       "            a  b  c   d\n",
       "morning    12  5  9   4\n",
       "noon        5  9  8  15\n",
       "afternoon  12  7  8  11\n",
       "evening     2  5  5   5"
      ]
     },
     "execution_count": 28,
     "metadata": {},
     "output_type": "execute_result"
    }
   ],
   "source": [
    "temps"
   ]
  },
  {
   "cell_type": "code",
   "execution_count": 29,
   "id": "4b5c3096-5d96-4d5b-a187-e3c1d4940ca8",
   "metadata": {},
   "outputs": [
    {
     "data": {
      "text/plain": [
       "b\n",
       "5    2\n",
       "9    1\n",
       "7    1\n",
       "Name: count, dtype: int64"
      ]
     },
     "execution_count": 29,
     "metadata": {},
     "output_type": "execute_result"
    }
   ],
   "source": [
    "temps.b.value_counts()"
   ]
  },
  {
   "cell_type": "code",
   "execution_count": 30,
   "id": "d030895b-d35e-4308-a7ec-dc8e8144f3a0",
   "metadata": {
    "scrolled": true
   },
   "outputs": [
    {
     "data": {
      "text/html": [
       "<div>\n",
       "<style scoped>\n",
       "    .dataframe tbody tr th:only-of-type {\n",
       "        vertical-align: middle;\n",
       "    }\n",
       "\n",
       "    .dataframe tbody tr th {\n",
       "        vertical-align: top;\n",
       "    }\n",
       "\n",
       "    .dataframe thead th {\n",
       "        text-align: right;\n",
       "    }\n",
       "</style>\n",
       "<table border=\"1\" class=\"dataframe\">\n",
       "  <thead>\n",
       "    <tr style=\"text-align: right;\">\n",
       "      <th></th>\n",
       "      <th>a</th>\n",
       "      <th>b</th>\n",
       "      <th>c</th>\n",
       "      <th>d</th>\n",
       "    </tr>\n",
       "  </thead>\n",
       "  <tbody>\n",
       "    <tr>\n",
       "      <th>count</th>\n",
       "      <td>4.000000</td>\n",
       "      <td>4.000000</td>\n",
       "      <td>4.000000</td>\n",
       "      <td>4.000000</td>\n",
       "    </tr>\n",
       "    <tr>\n",
       "      <th>mean</th>\n",
       "      <td>7.750000</td>\n",
       "      <td>6.500000</td>\n",
       "      <td>7.500000</td>\n",
       "      <td>8.750000</td>\n",
       "    </tr>\n",
       "    <tr>\n",
       "      <th>std</th>\n",
       "      <td>5.057997</td>\n",
       "      <td>1.914854</td>\n",
       "      <td>1.732051</td>\n",
       "      <td>5.188127</td>\n",
       "    </tr>\n",
       "    <tr>\n",
       "      <th>min</th>\n",
       "      <td>2.000000</td>\n",
       "      <td>5.000000</td>\n",
       "      <td>5.000000</td>\n",
       "      <td>4.000000</td>\n",
       "    </tr>\n",
       "    <tr>\n",
       "      <th>25%</th>\n",
       "      <td>4.250000</td>\n",
       "      <td>5.000000</td>\n",
       "      <td>7.250000</td>\n",
       "      <td>4.750000</td>\n",
       "    </tr>\n",
       "    <tr>\n",
       "      <th>50%</th>\n",
       "      <td>8.500000</td>\n",
       "      <td>6.000000</td>\n",
       "      <td>8.000000</td>\n",
       "      <td>8.000000</td>\n",
       "    </tr>\n",
       "    <tr>\n",
       "      <th>75%</th>\n",
       "      <td>12.000000</td>\n",
       "      <td>7.500000</td>\n",
       "      <td>8.250000</td>\n",
       "      <td>12.000000</td>\n",
       "    </tr>\n",
       "    <tr>\n",
       "      <th>max</th>\n",
       "      <td>12.000000</td>\n",
       "      <td>9.000000</td>\n",
       "      <td>9.000000</td>\n",
       "      <td>15.000000</td>\n",
       "    </tr>\n",
       "  </tbody>\n",
       "</table>\n",
       "</div>"
      ],
      "text/plain": [
       "               a         b         c          d\n",
       "count   4.000000  4.000000  4.000000   4.000000\n",
       "mean    7.750000  6.500000  7.500000   8.750000\n",
       "std     5.057997  1.914854  1.732051   5.188127\n",
       "min     2.000000  5.000000  5.000000   4.000000\n",
       "25%     4.250000  5.000000  7.250000   4.750000\n",
       "50%     8.500000  6.000000  8.000000   8.000000\n",
       "75%    12.000000  7.500000  8.250000  12.000000\n",
       "max    12.000000  9.000000  9.000000  15.000000"
      ]
     },
     "execution_count": 30,
     "metadata": {},
     "output_type": "execute_result"
    }
   ],
   "source": [
    "temps.describe()"
   ]
  },
  {
   "cell_type": "code",
   "execution_count": 31,
   "id": "f914e0f4-61bc-46cb-a248-34ac4318d9e9",
   "metadata": {},
   "outputs": [
    {
     "data": {
      "text/html": [
       "<div>\n",
       "<style scoped>\n",
       "    .dataframe tbody tr th:only-of-type {\n",
       "        vertical-align: middle;\n",
       "    }\n",
       "\n",
       "    .dataframe tbody tr th {\n",
       "        vertical-align: top;\n",
       "    }\n",
       "\n",
       "    .dataframe thead th {\n",
       "        text-align: right;\n",
       "    }\n",
       "</style>\n",
       "<table border=\"1\" class=\"dataframe\">\n",
       "  <thead>\n",
       "    <tr style=\"text-align: right;\">\n",
       "      <th>Comp</th>\n",
       "      <th>AAPL</th>\n",
       "      <th>GOOG</th>\n",
       "      <th>IBM</th>\n",
       "      <th>MSFT</th>\n",
       "    </tr>\n",
       "    <tr>\n",
       "      <th>Date</th>\n",
       "      <th></th>\n",
       "      <th></th>\n",
       "      <th></th>\n",
       "      <th></th>\n",
       "    </tr>\n",
       "  </thead>\n",
       "  <tbody>\n",
       "    <tr>\n",
       "      <th>2016-10-17</th>\n",
       "      <td>-0.000680</td>\n",
       "      <td>0.001837</td>\n",
       "      <td>0.002072</td>\n",
       "      <td>-0.003483</td>\n",
       "    </tr>\n",
       "    <tr>\n",
       "      <th>2016-10-18</th>\n",
       "      <td>-0.000681</td>\n",
       "      <td>0.019616</td>\n",
       "      <td>-0.026168</td>\n",
       "      <td>0.007690</td>\n",
       "    </tr>\n",
       "    <tr>\n",
       "      <th>2016-10-19</th>\n",
       "      <td>-0.002979</td>\n",
       "      <td>0.007846</td>\n",
       "      <td>0.003583</td>\n",
       "      <td>-0.002255</td>\n",
       "    </tr>\n",
       "    <tr>\n",
       "      <th>2016-10-20</th>\n",
       "      <td>-0.000512</td>\n",
       "      <td>-0.005652</td>\n",
       "      <td>0.001719</td>\n",
       "      <td>-0.004867</td>\n",
       "    </tr>\n",
       "    <tr>\n",
       "      <th>2016-10-21</th>\n",
       "      <td>-0.003930</td>\n",
       "      <td>0.003011</td>\n",
       "      <td>-0.012474</td>\n",
       "      <td>0.042096</td>\n",
       "    </tr>\n",
       "  </tbody>\n",
       "</table>\n",
       "</div>"
      ],
      "text/plain": [
       "Comp            AAPL      GOOG       IBM      MSFT\n",
       "Date                                              \n",
       "2016-10-17 -0.000680  0.001837  0.002072 -0.003483\n",
       "2016-10-18 -0.000681  0.019616 -0.026168  0.007690\n",
       "2016-10-19 -0.002979  0.007846  0.003583 -0.002255\n",
       "2016-10-20 -0.000512 -0.005652  0.001719 -0.004867\n",
       "2016-10-21 -0.003930  0.003011 -0.012474  0.042096"
      ]
     },
     "execution_count": 31,
     "metadata": {},
     "output_type": "execute_result"
    }
   ],
   "source": [
    "stocks = pd.read_pickle(\"examples/yahoo_price.pkl\")\n",
    "stocks.columns.name = \"Comp\"\n",
    "stocks.pct_change().tail()"
   ]
  },
  {
   "cell_type": "code",
   "execution_count": 32,
   "id": "5f43ee7e-85b0-4e11-b843-efcd0c224adc",
   "metadata": {},
   "outputs": [
    {
     "data": {
      "text/plain": [
       "('',\n",
       " Comp              AAPL        GOOG         IBM       MSFT\n",
       " Date                                                     \n",
       " 2016-10-17  117.550003  779.960022  154.770004  57.220001\n",
       " 2016-10-18  117.470001  795.260010  150.720001  57.660000\n",
       " 2016-10-19  117.120003  801.500000  151.259995  57.529999\n",
       " 2016-10-20  117.059998  796.969971  151.520004  57.250000\n",
       " 2016-10-21  116.599998  799.369995  149.630005  59.660000,\n",
       " Comp         AAPL          GOOG         IBM         MSFT\n",
       " Comp                                                    \n",
       " AAPL   814.799834   3881.219547  202.337565   274.529871\n",
       " GOOG  3881.219547  28136.032838  543.099262  1813.481659\n",
       " IBM    202.337565    543.099262  517.401793    16.625242\n",
       " MSFT   274.529871   1813.481659   16.625242   126.218791)"
      ]
     },
     "execution_count": 32,
     "metadata": {},
     "output_type": "execute_result"
    }
   ],
   "source": [
    "\"\",stocks.tail(),stocks.cov()"
   ]
  },
  {
   "cell_type": "code",
   "execution_count": 33,
   "id": "5c7f6b24-9556-49f0-8888-43fa51a41541",
   "metadata": {},
   "outputs": [
    {
     "data": {
      "text/plain": [
       "Comp\n",
       "AAPL    1.000000\n",
       "GOOG    0.810609\n",
       "IBM     0.311628\n",
       "MSFT    0.856056\n",
       "dtype: float64"
      ]
     },
     "execution_count": 33,
     "metadata": {},
     "output_type": "execute_result"
    }
   ],
   "source": [
    "stocks.corrwith(stocks[\"AAPL\"])"
   ]
  },
  {
   "cell_type": "code",
   "execution_count": 34,
   "id": "fba8fbdb-7995-4e97-b53a-3962ee67fe10",
   "metadata": {},
   "outputs": [
    {
     "data": {
      "text/plain": [
       "Index([12, 5, 12, 2], dtype='int32', name='a')"
      ]
     },
     "execution_count": 34,
     "metadata": {},
     "output_type": "execute_result"
    }
   ],
   "source": [
    "pd.Index(temps.a)"
   ]
  },
  {
   "cell_type": "markdown",
   "id": "808c9bb5-7dac-4a5b-bbeb-94d01204b7ef",
   "metadata": {},
   "source": [
    "###Loading Data###"
   ]
  },
  {
   "cell_type": "code",
   "execution_count": 36,
   "id": "410fd1a5-5658-4f6a-bb4a-92eeea12d02a",
   "metadata": {},
   "outputs": [
    {
     "data": {
      "text/html": [
       "<div>\n",
       "<style scoped>\n",
       "    .dataframe tbody tr th:only-of-type {\n",
       "        vertical-align: middle;\n",
       "    }\n",
       "\n",
       "    .dataframe tbody tr th {\n",
       "        vertical-align: top;\n",
       "    }\n",
       "\n",
       "    .dataframe thead th {\n",
       "        text-align: right;\n",
       "    }\n",
       "</style>\n",
       "<table border=\"1\" class=\"dataframe\">\n",
       "  <thead>\n",
       "    <tr style=\"text-align: right;\">\n",
       "      <th></th>\n",
       "      <th>a</th>\n",
       "      <th>b</th>\n",
       "      <th>c</th>\n",
       "      <th>d</th>\n",
       "    </tr>\n",
       "    <tr>\n",
       "      <th>e</th>\n",
       "      <th></th>\n",
       "      <th></th>\n",
       "      <th></th>\n",
       "      <th></th>\n",
       "    </tr>\n",
       "  </thead>\n",
       "  <tbody>\n",
       "    <tr>\n",
       "      <th>hello</th>\n",
       "      <td>1</td>\n",
       "      <td>2</td>\n",
       "      <td>3</td>\n",
       "      <td>4</td>\n",
       "    </tr>\n",
       "    <tr>\n",
       "      <th>world</th>\n",
       "      <td>5</td>\n",
       "      <td>6</td>\n",
       "      <td>7</td>\n",
       "      <td>8</td>\n",
       "    </tr>\n",
       "    <tr>\n",
       "      <th>foo</th>\n",
       "      <td>9</td>\n",
       "      <td>10</td>\n",
       "      <td>11</td>\n",
       "      <td>12</td>\n",
       "    </tr>\n",
       "  </tbody>\n",
       "</table>\n",
       "</div>"
      ],
      "text/plain": [
       "       a   b   c   d\n",
       "e                   \n",
       "hello  1   2   3   4\n",
       "world  5   6   7   8\n",
       "foo    9  10  11  12"
      ]
     },
     "execution_count": 36,
     "metadata": {},
     "output_type": "execute_result"
    }
   ],
   "source": [
    "csv = pd.read_csv(\"examples/ex2.csv\", names=list(\"abcde\"), index_col=\"e\")\n",
    "csv"
   ]
  },
  {
   "cell_type": "code",
   "execution_count": 41,
   "id": "e59ad29b-e413-4d5f-90a1-7d11466b0a85",
   "metadata": {
    "scrolled": true
   },
   "outputs": [
    {
     "name": "stdout",
     "output_type": "stream",
     "text": [
      "key\n",
      "0    151\n",
      "1    146\n",
      "2    152\n",
      "3    162\n",
      "4    171\n",
      "5    157\n",
      "6    166\n",
      "7    164\n",
      "8    162\n",
      "9    150\n",
      "A    320\n",
      "B    302\n",
      "C    286\n",
      "D    320\n",
      "E    368\n",
      "F    335\n",
      "G    308\n",
      "H    330\n",
      "I    327\n",
      "J    337\n",
      "K    334\n",
      "L    346\n",
      "M    338\n",
      "N    306\n",
      "O    343\n",
      "P    324\n",
      "Q    340\n",
      "R    318\n",
      "S    308\n",
      "T    304\n",
      "U    326\n",
      "V    328\n",
      "W    305\n",
      "X    364\n",
      "Y    314\n",
      "Z    288\n",
      "dtype: object\n"
     ]
    }
   ],
   "source": [
    "chunker = pd.read_csv(\"examples/ex6.csv\", chunksize=1000)\n",
    "counter = pd.Series()\n",
    "# counter = counter.add()\n",
    "for i, piece in enumerate(chunker):\n",
    "    # print(piece[\"key\"].value_counts())\n",
    "    counter = counter.add(piece[\"key\"].value_counts(ascending=True), fill_value=0)\n",
    "print(counter)"
   ]
  },
  {
   "cell_type": "code",
   "execution_count": 42,
   "id": "210ffd5f-088c-44e7-a5d8-f3131070c30e",
   "metadata": {},
   "outputs": [
    {
     "data": {
      "text/html": [
       "<div>\n",
       "<style scoped>\n",
       "    .dataframe tbody tr th:only-of-type {\n",
       "        vertical-align: middle;\n",
       "    }\n",
       "\n",
       "    .dataframe tbody tr th {\n",
       "        vertical-align: top;\n",
       "    }\n",
       "\n",
       "    .dataframe thead th {\n",
       "        text-align: right;\n",
       "    }\n",
       "</style>\n",
       "<table border=\"1\" class=\"dataframe\">\n",
       "  <thead>\n",
       "    <tr style=\"text-align: right;\">\n",
       "      <th></th>\n",
       "      <th>a</th>\n",
       "      <th>b</th>\n",
       "      <th>c</th>\n",
       "    </tr>\n",
       "  </thead>\n",
       "  <tbody>\n",
       "    <tr>\n",
       "      <th>0</th>\n",
       "      <td>1</td>\n",
       "      <td>2</td>\n",
       "      <td>3</td>\n",
       "    </tr>\n",
       "    <tr>\n",
       "      <th>1</th>\n",
       "      <td>1</td>\n",
       "      <td>2</td>\n",
       "      <td>3</td>\n",
       "    </tr>\n",
       "  </tbody>\n",
       "</table>\n",
       "</div>"
      ],
      "text/plain": [
       "   a  b  c\n",
       "0  1  2  3\n",
       "1  1  2  3"
      ]
     },
     "execution_count": 42,
     "metadata": {},
     "output_type": "execute_result"
    }
   ],
   "source": [
    "pd.read_csv(\"examples/ex7.csv\")"
   ]
  },
  {
   "cell_type": "code",
   "execution_count": 43,
   "id": "01cf42e2-5501-4e3b-ad1f-69b4f6d1ba34",
   "metadata": {
    "editable": true,
    "slideshow": {
     "slide_type": ""
    },
    "tags": []
   },
   "outputs": [
    {
     "data": {
      "text/html": [
       "<div>\n",
       "<style scoped>\n",
       "    .dataframe tbody tr th:only-of-type {\n",
       "        vertical-align: middle;\n",
       "    }\n",
       "\n",
       "    .dataframe tbody tr th {\n",
       "        vertical-align: top;\n",
       "    }\n",
       "\n",
       "    .dataframe thead th {\n",
       "        text-align: right;\n",
       "    }\n",
       "</style>\n",
       "<table border=\"1\" class=\"dataframe\">\n",
       "  <thead>\n",
       "    <tr style=\"text-align: right;\">\n",
       "      <th></th>\n",
       "      <th>a</th>\n",
       "      <th>b</th>\n",
       "      <th>c</th>\n",
       "    </tr>\n",
       "  </thead>\n",
       "  <tbody>\n",
       "    <tr>\n",
       "      <th>0</th>\n",
       "      <td>1</td>\n",
       "      <td>2</td>\n",
       "      <td>3</td>\n",
       "    </tr>\n",
       "    <tr>\n",
       "      <th>1</th>\n",
       "      <td>1</td>\n",
       "      <td>2</td>\n",
       "      <td>3</td>\n",
       "    </tr>\n",
       "  </tbody>\n",
       "</table>\n",
       "</div>"
      ],
      "text/plain": [
       "   a  b  c\n",
       "0  1  2  3\n",
       "1  1  2  3"
      ]
     },
     "execution_count": 43,
     "metadata": {},
     "output_type": "execute_result"
    }
   ],
   "source": [
    "data_dict = {'a': ('1', '1'), 'b': ('2', '2'), 'c': ('3', '3')}\n",
    "DataFrame({'a': ('1', '1'), 'b': ('2', '2'), 'c': ('3', '3')})"
   ]
  },
  {
   "cell_type": "code",
   "execution_count": 44,
   "id": "d6ff1542-2b52-479b-b405-75b9a14f1a80",
   "metadata": {
    "editable": true,
    "slideshow": {
     "slide_type": ""
    },
    "tags": []
   },
   "outputs": [
    {
     "ename": "FileNotFoundError",
     "evalue": "[Errno 2] No such file or directory: '../data/examples/website.xml'",
     "output_type": "error",
     "traceback": [
      "\u001b[1;31m---------------------------------------------------------------------------\u001b[0m",
      "\u001b[1;31mFileNotFoundError\u001b[0m                         Traceback (most recent call last)",
      "Cell \u001b[1;32mIn[44], line 2\u001b[0m\n\u001b[0;32m      1\u001b[0m \u001b[38;5;28;01mfrom\u001b[39;00m \u001b[38;5;21;01mlxml\u001b[39;00m \u001b[38;5;28;01mimport\u001b[39;00m objectify\n\u001b[1;32m----> 2\u001b[0m \u001b[38;5;28;01mwith\u001b[39;00m \u001b[38;5;28;43mopen\u001b[39;49m\u001b[43m(\u001b[49m\u001b[38;5;124;43m\"\u001b[39;49m\u001b[38;5;124;43m../data/examples/website.xml\u001b[39;49m\u001b[38;5;124;43m\"\u001b[39;49m\u001b[43m)\u001b[49m \u001b[38;5;28;01mas\u001b[39;00m f:\n\u001b[0;32m      3\u001b[0m     parsed \u001b[38;5;241m=\u001b[39m objectify\u001b[38;5;241m.\u001b[39mparse(f)\n\u001b[0;32m      4\u001b[0m root \u001b[38;5;241m=\u001b[39m parsed\u001b[38;5;241m.\u001b[39mgetroot()\n",
      "File \u001b[1;32m~\\AppData\\Roaming\\Python\\Python311\\site-packages\\IPython\\core\\interactiveshell.py:284\u001b[0m, in \u001b[0;36m_modified_open\u001b[1;34m(file, *args, **kwargs)\u001b[0m\n\u001b[0;32m    277\u001b[0m \u001b[38;5;28;01mif\u001b[39;00m file \u001b[38;5;129;01min\u001b[39;00m {\u001b[38;5;241m0\u001b[39m, \u001b[38;5;241m1\u001b[39m, \u001b[38;5;241m2\u001b[39m}:\n\u001b[0;32m    278\u001b[0m     \u001b[38;5;28;01mraise\u001b[39;00m \u001b[38;5;167;01mValueError\u001b[39;00m(\n\u001b[0;32m    279\u001b[0m         \u001b[38;5;124mf\u001b[39m\u001b[38;5;124m\"\u001b[39m\u001b[38;5;124mIPython won\u001b[39m\u001b[38;5;124m'\u001b[39m\u001b[38;5;124mt let you open fd=\u001b[39m\u001b[38;5;132;01m{\u001b[39;00mfile\u001b[38;5;132;01m}\u001b[39;00m\u001b[38;5;124m by default \u001b[39m\u001b[38;5;124m\"\u001b[39m\n\u001b[0;32m    280\u001b[0m         \u001b[38;5;124m\"\u001b[39m\u001b[38;5;124mas it is likely to crash IPython. If you know what you are doing, \u001b[39m\u001b[38;5;124m\"\u001b[39m\n\u001b[0;32m    281\u001b[0m         \u001b[38;5;124m\"\u001b[39m\u001b[38;5;124myou can use builtins\u001b[39m\u001b[38;5;124m'\u001b[39m\u001b[38;5;124m open.\u001b[39m\u001b[38;5;124m\"\u001b[39m\n\u001b[0;32m    282\u001b[0m     )\n\u001b[1;32m--> 284\u001b[0m \u001b[38;5;28;01mreturn\u001b[39;00m \u001b[43mio_open\u001b[49m\u001b[43m(\u001b[49m\u001b[43mfile\u001b[49m\u001b[43m,\u001b[49m\u001b[43m \u001b[49m\u001b[38;5;241;43m*\u001b[39;49m\u001b[43margs\u001b[49m\u001b[43m,\u001b[49m\u001b[43m \u001b[49m\u001b[38;5;241;43m*\u001b[39;49m\u001b[38;5;241;43m*\u001b[39;49m\u001b[43mkwargs\u001b[49m\u001b[43m)\u001b[49m\n",
      "\u001b[1;31mFileNotFoundError\u001b[0m: [Errno 2] No such file or directory: '../data/examples/website.xml'"
     ]
    }
   ],
   "source": [
    "from lxml import objectify\n",
    "with open(\"../data/examples/website.xml\") as f:\n",
    "    parsed = objectify.parse(f)\n",
    "root = parsed.getroot()\n",
    "for element in root.page:\n",
    "    el_data = {}\n",
    "    for child in element.getchildren():\n",
    "        print(child)\n",
    "        el_data.update({child.tag: \"val\"})\n",
    "        if child == element.ul:\n",
    "            for li in child.getchildren():\n",
    "                print(li.a)\n",
    "    print(el_data)\n"
   ]
  },
  {
   "cell_type": "code",
   "execution_count": null,
   "id": "fc0ba129-9f63-4c82-ad3d-03b99849331e",
   "metadata": {},
   "outputs": [],
   "source": [
    "time_mapping = {\n",
    "    \"morning\" : \"09:00\",\n",
    "    \"noon\" : \"12:00\",\n",
    "    \"afternoon\" : \"15:00\",\n",
    "    \"evening\" : \"18:00\",\n",
    "}\n",
    "temps[\"times\"] = temps.index.map(time_mapping)\n",
    "temps"
   ]
  },
  {
   "cell_type": "code",
   "execution_count": 45,
   "id": "61beedf2-9390-419e-9a02-baac75734312",
   "metadata": {},
   "outputs": [
    {
     "data": {
      "text/html": [
       "<div>\n",
       "<style scoped>\n",
       "    .dataframe tbody tr th:only-of-type {\n",
       "        vertical-align: middle;\n",
       "    }\n",
       "\n",
       "    .dataframe tbody tr th {\n",
       "        vertical-align: top;\n",
       "    }\n",
       "\n",
       "    .dataframe thead th {\n",
       "        text-align: right;\n",
       "    }\n",
       "</style>\n",
       "<table border=\"1\" class=\"dataframe\">\n",
       "  <thead>\n",
       "    <tr style=\"text-align: right;\">\n",
       "      <th></th>\n",
       "      <th>a</th>\n",
       "      <th>b</th>\n",
       "      <th>c</th>\n",
       "      <th>d</th>\n",
       "    </tr>\n",
       "  </thead>\n",
       "  <tbody>\n",
       "    <tr>\n",
       "      <th>morning</th>\n",
       "      <td>12</td>\n",
       "      <td>5</td>\n",
       "      <td>9</td>\n",
       "      <td>4</td>\n",
       "    </tr>\n",
       "    <tr>\n",
       "      <th>noon</th>\n",
       "      <td>5</td>\n",
       "      <td>9</td>\n",
       "      <td>8</td>\n",
       "      <td>15</td>\n",
       "    </tr>\n",
       "    <tr>\n",
       "      <th>afternoon</th>\n",
       "      <td>12</td>\n",
       "      <td>7</td>\n",
       "      <td>8</td>\n",
       "      <td>11</td>\n",
       "    </tr>\n",
       "    <tr>\n",
       "      <th>evening</th>\n",
       "      <td>2</td>\n",
       "      <td>5</td>\n",
       "      <td>5</td>\n",
       "      <td>5</td>\n",
       "    </tr>\n",
       "  </tbody>\n",
       "</table>\n",
       "</div>"
      ],
      "text/plain": [
       "            a  b  c   d\n",
       "morning    12  5  9   4\n",
       "noon        5  9  8  15\n",
       "afternoon  12  7  8  11\n",
       "evening     2  5  5   5"
      ]
     },
     "execution_count": 45,
     "metadata": {},
     "output_type": "execute_result"
    }
   ],
   "source": [
    "temps"
   ]
  },
  {
   "cell_type": "code",
   "execution_count": 46,
   "id": "86ddc23a-59c8-41f1-9e0e-57e553947d27",
   "metadata": {},
   "outputs": [],
   "source": [
    "limits = [0,5,10,15]\n",
    "categories = pd.cut(temps.a,limits, right=True, labels=[\"cold\", \"normal\", \"hot\"])\n",
    "# categories.value_counts()\n",
    "arr = np.random.uniform(size=20)\n",
    "\n"
   ]
  },
  {
   "cell_type": "code",
   "execution_count": 47,
   "id": "c4885fbd-7dc3-46c1-bfde-613a4ee40ac4",
   "metadata": {},
   "outputs": [
    {
     "name": "stdout",
     "output_type": "stream",
     "text": [
      "0.23390340893374076\n"
     ]
    },
    {
     "data": {
      "text/plain": [
       "Index([0.232, 0.24, 0.22999999999999998, 0.22999999999999998], dtype='float64')"
      ]
     },
     "execution_count": 47,
     "metadata": {},
     "output_type": "execute_result"
    }
   ],
   "source": [
    "print((arr.max() - arr.min())/4)\n",
    "categories = (pd.cut(arr, 4, precision=2)).categories\n",
    "categories.right - categories.left"
   ]
  },
  {
   "cell_type": "code",
   "execution_count": 48,
   "id": "8c0788a8-e7be-492e-ba4f-f58f776c9307",
   "metadata": {},
   "outputs": [
    {
     "data": {
      "text/html": [
       "<div>\n",
       "<style scoped>\n",
       "    .dataframe tbody tr th:only-of-type {\n",
       "        vertical-align: middle;\n",
       "    }\n",
       "\n",
       "    .dataframe tbody tr th {\n",
       "        vertical-align: top;\n",
       "    }\n",
       "\n",
       "    .dataframe thead th {\n",
       "        text-align: right;\n",
       "    }\n",
       "</style>\n",
       "<table border=\"1\" class=\"dataframe\">\n",
       "  <thead>\n",
       "    <tr style=\"text-align: right;\">\n",
       "      <th></th>\n",
       "      <th>0</th>\n",
       "      <th>1</th>\n",
       "      <th>2</th>\n",
       "      <th>3</th>\n",
       "    </tr>\n",
       "  </thead>\n",
       "  <tbody>\n",
       "    <tr>\n",
       "      <th>0</th>\n",
       "      <td>-1.197887</td>\n",
       "      <td>-0.113808</td>\n",
       "      <td>0.797295</td>\n",
       "      <td>1.007727</td>\n",
       "    </tr>\n",
       "    <tr>\n",
       "      <th>1</th>\n",
       "      <td>-0.031391</td>\n",
       "      <td>0.617582</td>\n",
       "      <td>-0.359552</td>\n",
       "      <td>0.679616</td>\n",
       "    </tr>\n",
       "    <tr>\n",
       "      <th>2</th>\n",
       "      <td>-0.882303</td>\n",
       "      <td>-0.330195</td>\n",
       "      <td>-0.772937</td>\n",
       "      <td>-0.304225</td>\n",
       "    </tr>\n",
       "    <tr>\n",
       "      <th>3</th>\n",
       "      <td>1.004103</td>\n",
       "      <td>0.277420</td>\n",
       "      <td>0.519694</td>\n",
       "      <td>-0.376528</td>\n",
       "    </tr>\n",
       "    <tr>\n",
       "      <th>4</th>\n",
       "      <td>0.830537</td>\n",
       "      <td>-0.396415</td>\n",
       "      <td>-0.064327</td>\n",
       "      <td>-0.786394</td>\n",
       "    </tr>\n",
       "    <tr>\n",
       "      <th>...</th>\n",
       "      <td>...</td>\n",
       "      <td>...</td>\n",
       "      <td>...</td>\n",
       "      <td>...</td>\n",
       "    </tr>\n",
       "    <tr>\n",
       "      <th>995</th>\n",
       "      <td>0.203467</td>\n",
       "      <td>0.186726</td>\n",
       "      <td>-0.329250</td>\n",
       "      <td>-0.831640</td>\n",
       "    </tr>\n",
       "    <tr>\n",
       "      <th>996</th>\n",
       "      <td>-0.306852</td>\n",
       "      <td>-0.004139</td>\n",
       "      <td>-0.462872</td>\n",
       "      <td>-0.621828</td>\n",
       "    </tr>\n",
       "    <tr>\n",
       "      <th>997</th>\n",
       "      <td>0.032284</td>\n",
       "      <td>0.053697</td>\n",
       "      <td>0.008306</td>\n",
       "      <td>0.265102</td>\n",
       "    </tr>\n",
       "    <tr>\n",
       "      <th>998</th>\n",
       "      <td>-1.262726</td>\n",
       "      <td>0.177677</td>\n",
       "      <td>-0.008405</td>\n",
       "      <td>0.943716</td>\n",
       "    </tr>\n",
       "    <tr>\n",
       "      <th>999</th>\n",
       "      <td>-0.707458</td>\n",
       "      <td>0.167361</td>\n",
       "      <td>-1.756184</td>\n",
       "      <td>-0.291538</td>\n",
       "    </tr>\n",
       "  </tbody>\n",
       "</table>\n",
       "<p>1000 rows × 4 columns</p>\n",
       "</div>"
      ],
      "text/plain": [
       "            0         1         2         3\n",
       "0   -1.197887 -0.113808  0.797295  1.007727\n",
       "1   -0.031391  0.617582 -0.359552  0.679616\n",
       "2   -0.882303 -0.330195 -0.772937 -0.304225\n",
       "3    1.004103  0.277420  0.519694 -0.376528\n",
       "4    0.830537 -0.396415 -0.064327 -0.786394\n",
       "..        ...       ...       ...       ...\n",
       "995  0.203467  0.186726 -0.329250 -0.831640\n",
       "996 -0.306852 -0.004139 -0.462872 -0.621828\n",
       "997  0.032284  0.053697  0.008306  0.265102\n",
       "998 -1.262726  0.177677 -0.008405  0.943716\n",
       "999 -0.707458  0.167361 -1.756184 -0.291538\n",
       "\n",
       "[1000 rows x 4 columns]"
      ]
     },
     "execution_count": 48,
     "metadata": {},
     "output_type": "execute_result"
    }
   ],
   "source": [
    "df = DataFrame(np.random.standard_normal((1000,4)))\n",
    "df"
   ]
  },
  {
   "cell_type": "code",
   "execution_count": 49,
   "id": "52222b79-7adb-4644-af45-7b9d7625f413",
   "metadata": {},
   "outputs": [
    {
     "data": {
      "text/html": [
       "<div>\n",
       "<style scoped>\n",
       "    .dataframe tbody tr th:only-of-type {\n",
       "        vertical-align: middle;\n",
       "    }\n",
       "\n",
       "    .dataframe tbody tr th {\n",
       "        vertical-align: top;\n",
       "    }\n",
       "\n",
       "    .dataframe thead th {\n",
       "        text-align: right;\n",
       "    }\n",
       "</style>\n",
       "<table border=\"1\" class=\"dataframe\">\n",
       "  <thead>\n",
       "    <tr style=\"text-align: right;\">\n",
       "      <th></th>\n",
       "      <th>0</th>\n",
       "      <th>1</th>\n",
       "      <th>2</th>\n",
       "      <th>3</th>\n",
       "    </tr>\n",
       "  </thead>\n",
       "  <tbody>\n",
       "    <tr>\n",
       "      <th>12</th>\n",
       "      <td>3.125037</td>\n",
       "      <td>-0.617892</td>\n",
       "      <td>-1.162927</td>\n",
       "      <td>-0.128612</td>\n",
       "    </tr>\n",
       "    <tr>\n",
       "      <th>33</th>\n",
       "      <td>-0.917901</td>\n",
       "      <td>0.301027</td>\n",
       "      <td>-3.346006</td>\n",
       "      <td>-0.659901</td>\n",
       "    </tr>\n",
       "    <tr>\n",
       "      <th>234</th>\n",
       "      <td>0.855040</td>\n",
       "      <td>3.598467</td>\n",
       "      <td>-0.152479</td>\n",
       "      <td>-0.143704</td>\n",
       "    </tr>\n",
       "    <tr>\n",
       "      <th>437</th>\n",
       "      <td>0.324805</td>\n",
       "      <td>0.001176</td>\n",
       "      <td>-3.037392</td>\n",
       "      <td>0.154761</td>\n",
       "    </tr>\n",
       "    <tr>\n",
       "      <th>469</th>\n",
       "      <td>3.068099</td>\n",
       "      <td>0.186827</td>\n",
       "      <td>-0.372375</td>\n",
       "      <td>-0.063588</td>\n",
       "    </tr>\n",
       "    <tr>\n",
       "      <th>560</th>\n",
       "      <td>0.772426</td>\n",
       "      <td>-1.240908</td>\n",
       "      <td>3.526623</td>\n",
       "      <td>-0.667032</td>\n",
       "    </tr>\n",
       "    <tr>\n",
       "      <th>576</th>\n",
       "      <td>0.728684</td>\n",
       "      <td>-0.516532</td>\n",
       "      <td>0.283054</td>\n",
       "      <td>3.195348</td>\n",
       "    </tr>\n",
       "    <tr>\n",
       "      <th>909</th>\n",
       "      <td>-3.001063</td>\n",
       "      <td>-0.623404</td>\n",
       "      <td>0.403503</td>\n",
       "      <td>0.091585</td>\n",
       "    </tr>\n",
       "    <tr>\n",
       "      <th>963</th>\n",
       "      <td>3.031624</td>\n",
       "      <td>-0.777502</td>\n",
       "      <td>-0.764706</td>\n",
       "      <td>0.279370</td>\n",
       "    </tr>\n",
       "    <tr>\n",
       "      <th>992</th>\n",
       "      <td>-3.015971</td>\n",
       "      <td>0.133861</td>\n",
       "      <td>-0.155095</td>\n",
       "      <td>0.277604</td>\n",
       "    </tr>\n",
       "  </tbody>\n",
       "</table>\n",
       "</div>"
      ],
      "text/plain": [
       "            0         1         2         3\n",
       "12   3.125037 -0.617892 -1.162927 -0.128612\n",
       "33  -0.917901  0.301027 -3.346006 -0.659901\n",
       "234  0.855040  3.598467 -0.152479 -0.143704\n",
       "437  0.324805  0.001176 -3.037392  0.154761\n",
       "469  3.068099  0.186827 -0.372375 -0.063588\n",
       "560  0.772426 -1.240908  3.526623 -0.667032\n",
       "576  0.728684 -0.516532  0.283054  3.195348\n",
       "909 -3.001063 -0.623404  0.403503  0.091585\n",
       "963  3.031624 -0.777502 -0.764706  0.279370\n",
       "992 -3.015971  0.133861 -0.155095  0.277604"
      ]
     },
     "execution_count": 49,
     "metadata": {},
     "output_type": "execute_result"
    }
   ],
   "source": [
    "df[(df.abs() > 3).any(axis=1)]\n"
   ]
  },
  {
   "cell_type": "code",
   "execution_count": 50,
   "id": "447cfde3-858b-47bc-a9ab-e27f93500175",
   "metadata": {},
   "outputs": [
    {
     "data": {
      "text/html": [
       "<div>\n",
       "<style scoped>\n",
       "    .dataframe tbody tr th:only-of-type {\n",
       "        vertical-align: middle;\n",
       "    }\n",
       "\n",
       "    .dataframe tbody tr th {\n",
       "        vertical-align: top;\n",
       "    }\n",
       "\n",
       "    .dataframe thead th {\n",
       "        text-align: right;\n",
       "    }\n",
       "</style>\n",
       "<table border=\"1\" class=\"dataframe\">\n",
       "  <thead>\n",
       "    <tr style=\"text-align: right;\">\n",
       "      <th></th>\n",
       "      <th>3</th>\n",
       "      <th>0</th>\n",
       "    </tr>\n",
       "  </thead>\n",
       "  <tbody>\n",
       "    <tr>\n",
       "      <th>0</th>\n",
       "      <td>1.007727</td>\n",
       "      <td>-1.197887</td>\n",
       "    </tr>\n",
       "    <tr>\n",
       "      <th>1</th>\n",
       "      <td>0.679616</td>\n",
       "      <td>-0.031391</td>\n",
       "    </tr>\n",
       "    <tr>\n",
       "      <th>2</th>\n",
       "      <td>-0.304225</td>\n",
       "      <td>-0.882303</td>\n",
       "    </tr>\n",
       "    <tr>\n",
       "      <th>3</th>\n",
       "      <td>-0.376528</td>\n",
       "      <td>1.004103</td>\n",
       "    </tr>\n",
       "    <tr>\n",
       "      <th>4</th>\n",
       "      <td>-0.786394</td>\n",
       "      <td>0.830537</td>\n",
       "    </tr>\n",
       "    <tr>\n",
       "      <th>...</th>\n",
       "      <td>...</td>\n",
       "      <td>...</td>\n",
       "    </tr>\n",
       "    <tr>\n",
       "      <th>995</th>\n",
       "      <td>-0.831640</td>\n",
       "      <td>0.203467</td>\n",
       "    </tr>\n",
       "    <tr>\n",
       "      <th>996</th>\n",
       "      <td>-0.621828</td>\n",
       "      <td>-0.306852</td>\n",
       "    </tr>\n",
       "    <tr>\n",
       "      <th>997</th>\n",
       "      <td>0.265102</td>\n",
       "      <td>0.032284</td>\n",
       "    </tr>\n",
       "    <tr>\n",
       "      <th>998</th>\n",
       "      <td>0.943716</td>\n",
       "      <td>-1.262726</td>\n",
       "    </tr>\n",
       "    <tr>\n",
       "      <th>999</th>\n",
       "      <td>-0.291538</td>\n",
       "      <td>-0.707458</td>\n",
       "    </tr>\n",
       "  </tbody>\n",
       "</table>\n",
       "<p>1000 rows × 2 columns</p>\n",
       "</div>"
      ],
      "text/plain": [
       "            3         0\n",
       "0    1.007727 -1.197887\n",
       "1    0.679616 -0.031391\n",
       "2   -0.304225 -0.882303\n",
       "3   -0.376528  1.004103\n",
       "4   -0.786394  0.830537\n",
       "..        ...       ...\n",
       "995 -0.831640  0.203467\n",
       "996 -0.621828 -0.306852\n",
       "997  0.265102  0.032284\n",
       "998  0.943716 -1.262726\n",
       "999 -0.291538 -0.707458\n",
       "\n",
       "[1000 rows x 2 columns]"
      ]
     },
     "execution_count": 50,
     "metadata": {},
     "output_type": "execute_result"
    }
   ],
   "source": [
    "df.take([3,0], axis=\"columns\")"
   ]
  },
  {
   "cell_type": "code",
   "execution_count": 51,
   "id": "673bf885-8cd9-4042-965e-eabfc0ec65d1",
   "metadata": {
    "scrolled": true
   },
   "outputs": [
    {
     "data": {
      "text/html": [
       "<div>\n",
       "<style scoped>\n",
       "    .dataframe tbody tr th:only-of-type {\n",
       "        vertical-align: middle;\n",
       "    }\n",
       "\n",
       "    .dataframe tbody tr th {\n",
       "        vertical-align: top;\n",
       "    }\n",
       "\n",
       "    .dataframe thead th {\n",
       "        text-align: right;\n",
       "    }\n",
       "</style>\n",
       "<table border=\"1\" class=\"dataframe\">\n",
       "  <thead>\n",
       "    <tr style=\"text-align: right;\">\n",
       "      <th></th>\n",
       "      <th>a</th>\n",
       "      <th>b</th>\n",
       "      <th>c</th>\n",
       "      <th>d</th>\n",
       "    </tr>\n",
       "  </thead>\n",
       "  <tbody>\n",
       "    <tr>\n",
       "      <th>evening</th>\n",
       "      <td>2</td>\n",
       "      <td>5</td>\n",
       "      <td>5</td>\n",
       "      <td>5</td>\n",
       "    </tr>\n",
       "    <tr>\n",
       "      <th>morning</th>\n",
       "      <td>12</td>\n",
       "      <td>5</td>\n",
       "      <td>9</td>\n",
       "      <td>4</td>\n",
       "    </tr>\n",
       "    <tr>\n",
       "      <th>noon</th>\n",
       "      <td>5</td>\n",
       "      <td>9</td>\n",
       "      <td>8</td>\n",
       "      <td>15</td>\n",
       "    </tr>\n",
       "    <tr>\n",
       "      <th>morning</th>\n",
       "      <td>12</td>\n",
       "      <td>5</td>\n",
       "      <td>9</td>\n",
       "      <td>4</td>\n",
       "    </tr>\n",
       "    <tr>\n",
       "      <th>afternoon</th>\n",
       "      <td>12</td>\n",
       "      <td>7</td>\n",
       "      <td>8</td>\n",
       "      <td>11</td>\n",
       "    </tr>\n",
       "  </tbody>\n",
       "</table>\n",
       "</div>"
      ],
      "text/plain": [
       "            a  b  c   d\n",
       "evening     2  5  5   5\n",
       "morning    12  5  9   4\n",
       "noon        5  9  8  15\n",
       "morning    12  5  9   4\n",
       "afternoon  12  7  8  11"
      ]
     },
     "execution_count": 51,
     "metadata": {},
     "output_type": "execute_result"
    }
   ],
   "source": [
    "temps.sample(5, replace=True)"
   ]
  },
  {
   "cell_type": "markdown",
   "id": "cc3739bb-7ca5-4bb1-b93d-9afc6760a859",
   "metadata": {},
   "source": [
    "###Data Categorization Indicators | data transformation###"
   ]
  },
  {
   "cell_type": "code",
   "execution_count": 56,
   "id": "42b148b8-d280-4bb5-aaa2-062ef324a326",
   "metadata": {},
   "outputs": [
    {
     "data": {
      "text/html": [
       "<div>\n",
       "<style scoped>\n",
       "    .dataframe tbody tr th:only-of-type {\n",
       "        vertical-align: middle;\n",
       "    }\n",
       "\n",
       "    .dataframe tbody tr th {\n",
       "        vertical-align: top;\n",
       "    }\n",
       "\n",
       "    .dataframe thead th {\n",
       "        text-align: right;\n",
       "    }\n",
       "</style>\n",
       "<table border=\"1\" class=\"dataframe\">\n",
       "  <thead>\n",
       "    <tr style=\"text-align: right;\">\n",
       "      <th></th>\n",
       "      <th>MovieID</th>\n",
       "      <th>name</th>\n",
       "      <th>genre(s)</th>\n",
       "    </tr>\n",
       "  </thead>\n",
       "  <tbody>\n",
       "    <tr>\n",
       "      <th>0</th>\n",
       "      <td>1</td>\n",
       "      <td>Toy Story (1995)</td>\n",
       "      <td>Animation|Children's|Comedy</td>\n",
       "    </tr>\n",
       "    <tr>\n",
       "      <th>1</th>\n",
       "      <td>2</td>\n",
       "      <td>Jumanji (1995)</td>\n",
       "      <td>Adventure|Children's|Fantasy</td>\n",
       "    </tr>\n",
       "    <tr>\n",
       "      <th>2</th>\n",
       "      <td>3</td>\n",
       "      <td>Grumpier Old Men (1995)</td>\n",
       "      <td>Comedy|Romance</td>\n",
       "    </tr>\n",
       "    <tr>\n",
       "      <th>3</th>\n",
       "      <td>4</td>\n",
       "      <td>Waiting to Exhale (1995)</td>\n",
       "      <td>Comedy|Drama</td>\n",
       "    </tr>\n",
       "    <tr>\n",
       "      <th>4</th>\n",
       "      <td>5</td>\n",
       "      <td>Father of the Bride Part II (1995)</td>\n",
       "      <td>Comedy</td>\n",
       "    </tr>\n",
       "    <tr>\n",
       "      <th>...</th>\n",
       "      <td>...</td>\n",
       "      <td>...</td>\n",
       "      <td>...</td>\n",
       "    </tr>\n",
       "    <tr>\n",
       "      <th>3878</th>\n",
       "      <td>3948</td>\n",
       "      <td>Meet the Parents (2000)</td>\n",
       "      <td>Comedy</td>\n",
       "    </tr>\n",
       "    <tr>\n",
       "      <th>3879</th>\n",
       "      <td>3949</td>\n",
       "      <td>Requiem for a Dream (2000)</td>\n",
       "      <td>Drama</td>\n",
       "    </tr>\n",
       "    <tr>\n",
       "      <th>3880</th>\n",
       "      <td>3950</td>\n",
       "      <td>Tigerland (2000)</td>\n",
       "      <td>Drama</td>\n",
       "    </tr>\n",
       "    <tr>\n",
       "      <th>3881</th>\n",
       "      <td>3951</td>\n",
       "      <td>Two Family House (2000)</td>\n",
       "      <td>Drama</td>\n",
       "    </tr>\n",
       "    <tr>\n",
       "      <th>3882</th>\n",
       "      <td>3952</td>\n",
       "      <td>Contender, The (2000)</td>\n",
       "      <td>Drama|Thriller</td>\n",
       "    </tr>\n",
       "  </tbody>\n",
       "</table>\n",
       "<p>3883 rows × 3 columns</p>\n",
       "</div>"
      ],
      "text/plain": [
       "      MovieID                                name  \\\n",
       "0           1                    Toy Story (1995)   \n",
       "1           2                      Jumanji (1995)   \n",
       "2           3             Grumpier Old Men (1995)   \n",
       "3           4            Waiting to Exhale (1995)   \n",
       "4           5  Father of the Bride Part II (1995)   \n",
       "...       ...                                 ...   \n",
       "3878     3948             Meet the Parents (2000)   \n",
       "3879     3949          Requiem for a Dream (2000)   \n",
       "3880     3950                    Tigerland (2000)   \n",
       "3881     3951             Two Family House (2000)   \n",
       "3882     3952               Contender, The (2000)   \n",
       "\n",
       "                          genre(s)  \n",
       "0      Animation|Children's|Comedy  \n",
       "1     Adventure|Children's|Fantasy  \n",
       "2                   Comedy|Romance  \n",
       "3                     Comedy|Drama  \n",
       "4                           Comedy  \n",
       "...                            ...  \n",
       "3878                        Comedy  \n",
       "3879                         Drama  \n",
       "3880                         Drama  \n",
       "3881                         Drama  \n",
       "3882                Drama|Thriller  \n",
       "\n",
       "[3883 rows x 3 columns]"
      ]
     },
     "execution_count": 56,
     "metadata": {},
     "output_type": "execute_result"
    }
   ],
   "source": [
    "movies = pd.read_table(\"datasets/movielens/movies.dat\", header=None, sep=\"::\",\n",
    "                       engine=\"python\", names=[\"MovieID\", \"name\", \"genre(s)\"])\n",
    "movies"
   ]
  },
  {
   "cell_type": "code",
   "execution_count": 57,
   "id": "56be2390-c292-461d-a177-04349ae7ed04",
   "metadata": {
    "scrolled": true
   },
   "outputs": [
    {
     "data": {
      "text/html": [
       "<div>\n",
       "<style scoped>\n",
       "    .dataframe tbody tr th:only-of-type {\n",
       "        vertical-align: middle;\n",
       "    }\n",
       "\n",
       "    .dataframe tbody tr th {\n",
       "        vertical-align: top;\n",
       "    }\n",
       "\n",
       "    .dataframe thead th {\n",
       "        text-align: right;\n",
       "    }\n",
       "</style>\n",
       "<table border=\"1\" class=\"dataframe\">\n",
       "  <thead>\n",
       "    <tr style=\"text-align: right;\">\n",
       "      <th></th>\n",
       "      <th>Action</th>\n",
       "      <th>Adventure</th>\n",
       "      <th>Animation</th>\n",
       "      <th>Children's</th>\n",
       "      <th>Comedy</th>\n",
       "      <th>Crime</th>\n",
       "    </tr>\n",
       "  </thead>\n",
       "  <tbody>\n",
       "    <tr>\n",
       "      <th>0</th>\n",
       "      <td>0</td>\n",
       "      <td>0</td>\n",
       "      <td>1</td>\n",
       "      <td>1</td>\n",
       "      <td>1</td>\n",
       "      <td>0</td>\n",
       "    </tr>\n",
       "    <tr>\n",
       "      <th>1</th>\n",
       "      <td>0</td>\n",
       "      <td>1</td>\n",
       "      <td>0</td>\n",
       "      <td>1</td>\n",
       "      <td>0</td>\n",
       "      <td>0</td>\n",
       "    </tr>\n",
       "    <tr>\n",
       "      <th>2</th>\n",
       "      <td>0</td>\n",
       "      <td>0</td>\n",
       "      <td>0</td>\n",
       "      <td>0</td>\n",
       "      <td>1</td>\n",
       "      <td>0</td>\n",
       "    </tr>\n",
       "    <tr>\n",
       "      <th>3</th>\n",
       "      <td>0</td>\n",
       "      <td>0</td>\n",
       "      <td>0</td>\n",
       "      <td>0</td>\n",
       "      <td>1</td>\n",
       "      <td>0</td>\n",
       "    </tr>\n",
       "    <tr>\n",
       "      <th>4</th>\n",
       "      <td>0</td>\n",
       "      <td>0</td>\n",
       "      <td>0</td>\n",
       "      <td>0</td>\n",
       "      <td>1</td>\n",
       "      <td>0</td>\n",
       "    </tr>\n",
       "    <tr>\n",
       "      <th>5</th>\n",
       "      <td>1</td>\n",
       "      <td>0</td>\n",
       "      <td>0</td>\n",
       "      <td>0</td>\n",
       "      <td>0</td>\n",
       "      <td>1</td>\n",
       "    </tr>\n",
       "    <tr>\n",
       "      <th>6</th>\n",
       "      <td>0</td>\n",
       "      <td>0</td>\n",
       "      <td>0</td>\n",
       "      <td>0</td>\n",
       "      <td>1</td>\n",
       "      <td>0</td>\n",
       "    </tr>\n",
       "    <tr>\n",
       "      <th>7</th>\n",
       "      <td>0</td>\n",
       "      <td>1</td>\n",
       "      <td>0</td>\n",
       "      <td>1</td>\n",
       "      <td>0</td>\n",
       "      <td>0</td>\n",
       "    </tr>\n",
       "    <tr>\n",
       "      <th>8</th>\n",
       "      <td>1</td>\n",
       "      <td>0</td>\n",
       "      <td>0</td>\n",
       "      <td>0</td>\n",
       "      <td>0</td>\n",
       "      <td>0</td>\n",
       "    </tr>\n",
       "    <tr>\n",
       "      <th>9</th>\n",
       "      <td>1</td>\n",
       "      <td>1</td>\n",
       "      <td>0</td>\n",
       "      <td>0</td>\n",
       "      <td>0</td>\n",
       "      <td>0</td>\n",
       "    </tr>\n",
       "  </tbody>\n",
       "</table>\n",
       "</div>"
      ],
      "text/plain": [
       "   Action  Adventure  Animation  Children's  Comedy  Crime\n",
       "0       0          0          1           1       1      0\n",
       "1       0          1          0           1       0      0\n",
       "2       0          0          0           0       1      0\n",
       "3       0          0          0           0       1      0\n",
       "4       0          0          0           0       1      0\n",
       "5       1          0          0           0       0      1\n",
       "6       0          0          0           0       1      0\n",
       "7       0          1          0           1       0      0\n",
       "8       1          0          0           0       0      0\n",
       "9       1          1          0           0       0      0"
      ]
     },
     "execution_count": 57,
     "metadata": {},
     "output_type": "execute_result"
    }
   ],
   "source": [
    "genres_dummies = movies[\"genre(s)\"].str.get_dummies(sep=\"|\")\n",
    "genres_dummies.iloc[:10, :6]"
   ]
  },
  {
   "cell_type": "code",
   "execution_count": 58,
   "id": "272187bc-0f7d-4643-947e-304d7293ad7a",
   "metadata": {},
   "outputs": [],
   "source": [
    "movies_with_dummies = movies.join(genres_dummies.add_prefix(\"Genre_\"))"
   ]
  },
  {
   "cell_type": "code",
   "execution_count": 59,
   "id": "33b5b3fb-0e45-4762-92bf-244abf8d1d3c",
   "metadata": {},
   "outputs": [
    {
     "data": {
      "text/html": [
       "<div>\n",
       "<style scoped>\n",
       "    .dataframe tbody tr th:only-of-type {\n",
       "        vertical-align: middle;\n",
       "    }\n",
       "\n",
       "    .dataframe tbody tr th {\n",
       "        vertical-align: top;\n",
       "    }\n",
       "\n",
       "    .dataframe thead th {\n",
       "        text-align: right;\n",
       "    }\n",
       "</style>\n",
       "<table border=\"1\" class=\"dataframe\">\n",
       "  <thead>\n",
       "    <tr style=\"text-align: right;\">\n",
       "      <th></th>\n",
       "      <th>a</th>\n",
       "      <th>b</th>\n",
       "      <th>c</th>\n",
       "      <th>d</th>\n",
       "    </tr>\n",
       "  </thead>\n",
       "  <tbody>\n",
       "    <tr>\n",
       "      <th>morning</th>\n",
       "      <td>12</td>\n",
       "      <td>5</td>\n",
       "      <td>9</td>\n",
       "      <td>4</td>\n",
       "    </tr>\n",
       "    <tr>\n",
       "      <th>noon</th>\n",
       "      <td>5</td>\n",
       "      <td>9</td>\n",
       "      <td>8</td>\n",
       "      <td>15</td>\n",
       "    </tr>\n",
       "    <tr>\n",
       "      <th>afternoon</th>\n",
       "      <td>12</td>\n",
       "      <td>7</td>\n",
       "      <td>8</td>\n",
       "      <td>11</td>\n",
       "    </tr>\n",
       "    <tr>\n",
       "      <th>evening</th>\n",
       "      <td>2</td>\n",
       "      <td>5</td>\n",
       "      <td>5</td>\n",
       "      <td>5</td>\n",
       "    </tr>\n",
       "  </tbody>\n",
       "</table>\n",
       "</div>"
      ],
      "text/plain": [
       "            a  b  c   d\n",
       "morning    12  5  9   4\n",
       "noon        5  9  8  15\n",
       "afternoon  12  7  8  11\n",
       "evening     2  5  5   5"
      ]
     },
     "execution_count": 59,
     "metadata": {},
     "output_type": "execute_result"
    }
   ],
   "source": [
    "temps"
   ]
  },
  {
   "cell_type": "markdown",
   "id": "a140777c-17a5-4610-be79-c8bb5923ee3c",
   "metadata": {},
   "source": [
    "# Learning Matplotlib now"
   ]
  },
  {
   "cell_type": "code",
   "execution_count": 60,
   "id": "2ea312ed-ddd2-4f7b-9aab-386f4184cbec",
   "metadata": {},
   "outputs": [
    {
     "data": {
      "image/png": "[encoded data removed]",
      "text/plain": [
       "<Figure size 640x480 with 1 Axes>"
      ]
     },
     "metadata": {},
     "output_type": "display_data"
    }
   ],
   "source": [
    "fig, axes = plt.subplots(1,1)\n",
    "axes.plot(np.random.standard_normal(11).cumsum(), linestyle=\"--\", label=\"A\", marker=\"o\")\n",
    "axes.set_xlabel(\"dsdssd\", fontsize=\"16\")\n",
    "axes.set_xticks(range(0,11))\n",
    "axes.set_xticklabels(labels=range(11),rotation =30)\n",
    "axes.set_xlim([0,10])\n",
    "axes.legend()\n",
    "axes.grid()"
   ]
  },
  {
   "cell_type": "code",
   "execution_count": 61,
   "id": "d2f14863-22d6-439e-ac16-15f0057800ea",
   "metadata": {},
   "outputs": [],
   "source": [
    "data = pd.read_csv('examples/tips.csv')\n",
    "data.head()\n",
    "data[\"tip_pct\"] = data['tip'] / data['total_bill'] * 100"
   ]
  },
  {
   "cell_type": "code",
   "execution_count": 62,
   "id": "bc179600-80b5-4c5d-909a-3a04559c4b60",
   "metadata": {},
   "outputs": [
    {
     "data": {
      "text/html": [
       "<div>\n",
       "<style scoped>\n",
       "    .dataframe tbody tr th:only-of-type {\n",
       "        vertical-align: middle;\n",
       "    }\n",
       "\n",
       "    .dataframe tbody tr th {\n",
       "        vertical-align: top;\n",
       "    }\n",
       "\n",
       "    .dataframe thead th {\n",
       "        text-align: right;\n",
       "    }\n",
       "</style>\n",
       "<table border=\"1\" class=\"dataframe\">\n",
       "  <thead>\n",
       "    <tr style=\"text-align: right;\">\n",
       "      <th>size</th>\n",
       "      <th>1</th>\n",
       "      <th>2</th>\n",
       "      <th>3</th>\n",
       "      <th>4</th>\n",
       "      <th>5</th>\n",
       "      <th>6</th>\n",
       "    </tr>\n",
       "    <tr>\n",
       "      <th>day</th>\n",
       "      <th></th>\n",
       "      <th></th>\n",
       "      <th></th>\n",
       "      <th></th>\n",
       "      <th></th>\n",
       "      <th></th>\n",
       "    </tr>\n",
       "  </thead>\n",
       "  <tbody>\n",
       "    <tr>\n",
       "      <th>Thur</th>\n",
       "      <td>1</td>\n",
       "      <td>48</td>\n",
       "      <td>4</td>\n",
       "      <td>5</td>\n",
       "      <td>1</td>\n",
       "      <td>3</td>\n",
       "    </tr>\n",
       "    <tr>\n",
       "      <th>Fri</th>\n",
       "      <td>1</td>\n",
       "      <td>16</td>\n",
       "      <td>1</td>\n",
       "      <td>1</td>\n",
       "      <td>0</td>\n",
       "      <td>0</td>\n",
       "    </tr>\n",
       "    <tr>\n",
       "      <th>Sat</th>\n",
       "      <td>2</td>\n",
       "      <td>53</td>\n",
       "      <td>18</td>\n",
       "      <td>13</td>\n",
       "      <td>1</td>\n",
       "      <td>0</td>\n",
       "    </tr>\n",
       "    <tr>\n",
       "      <th>Sun</th>\n",
       "      <td>0</td>\n",
       "      <td>39</td>\n",
       "      <td>15</td>\n",
       "      <td>18</td>\n",
       "      <td>3</td>\n",
       "      <td>1</td>\n",
       "    </tr>\n",
       "  </tbody>\n",
       "</table>\n",
       "</div>"
      ],
      "text/plain": [
       "size  1   2   3   4  5  6\n",
       "day                      \n",
       "Thur  1  48   4   5  1  3\n",
       "Fri   1  16   1   1  0  0\n",
       "Sat   2  53  18  13  1  0\n",
       "Sun   0  39  15  18  3  1"
      ]
     },
     "execution_count": 62,
     "metadata": {},
     "output_type": "execute_result"
    }
   ],
   "source": [
    "days_size = pd.crosstab(data[\"day\"],data[\"size\"]).reindex([\"Thur\", \"Fri\", \"Sat\", \"Sun\"])\n",
    "days_size\n"
   ]
  },
  {
   "cell_type": "code",
   "execution_count": 63,
   "id": "6d9ddc83-1ca9-4c26-ad21-9021861ef341",
   "metadata": {},
   "outputs": [],
   "source": [
    "days_size = days_size.div(days_size.sum(axis=1), axis=0).loc[:, 2:4]"
   ]
  },
  {
   "cell_type": "code",
   "execution_count": 64,
   "id": "fb0dc807-be5f-4140-970e-8a828ecbbb76",
   "metadata": {},
   "outputs": [
    {
     "data": {
      "text/plain": [
       "<Axes: xlabel='day'>"
      ]
     },
     "execution_count": 64,
     "metadata": {},
     "output_type": "execute_result"
    },
    {
     "data": {
      "image/png": "[encoded data removed]",
      "text/plain": [
       "<Figure size 640x480 with 1 Axes>"
      ]
     },
     "metadata": {},
     "output_type": "display_data"
    }
   ],
   "source": [
    "days_size.plot.bar(stacked=True)"
   ]
  },
  {
   "cell_type": "code",
   "execution_count": 65,
   "id": "f776a1b8-59c1-4594-9661-517ac8e31338",
   "metadata": {},
   "outputs": [],
   "source": [
    "financial_data= pd.read_csv(\"examples/spx.csv\", parse_dates=True)\n",
    "financial_data = financial_data.set_index(\"Date\")\n",
    "financial_data.tail()\n",
    "financial_data.index = pd.to_datetime(financial_data.index)"
   ]
  },
  {
   "cell_type": "code",
   "execution_count": 66,
   "id": "8cf8696e-a368-4913-927a-159008cae011",
   "metadata": {},
   "outputs": [
    {
     "data": {
      "text/plain": [
       "(11688.0, 12784.0)"
      ]
     },
     "execution_count": 66,
     "metadata": {},
     "output_type": "execute_result"
    },
    {
     "data": {
      "image/png": "[encoded data removed]",
      "text/plain": [
       "<Figure size 640x480 with 1 Axes>"
      ]
     },
     "metadata": {},
     "output_type": "display_data"
    }
   ],
   "source": [
    "fig, ax = plt.subplots()\n",
    "financial_data.plot(ax=ax)\n",
    "ax.set_xlabel(\"df\")\n",
    "ax.set_xlim(['1-1-2002','1/1/2005'])"
   ]
  },
  {
   "cell_type": "code",
   "execution_count": 67,
   "id": "22d4a467-e215-41c0-9656-4613137a6fe1",
   "metadata": {},
   "outputs": [
    {
     "data": {
      "text/html": [
       "<div>\n",
       "<style scoped>\n",
       "    .dataframe tbody tr th:only-of-type {\n",
       "        vertical-align: middle;\n",
       "    }\n",
       "\n",
       "    .dataframe tbody tr th {\n",
       "        vertical-align: top;\n",
       "    }\n",
       "\n",
       "    .dataframe thead th {\n",
       "        text-align: right;\n",
       "    }\n",
       "</style>\n",
       "<table border=\"1\" class=\"dataframe\">\n",
       "  <thead>\n",
       "    <tr style=\"text-align: right;\">\n",
       "      <th></th>\n",
       "      <th>year</th>\n",
       "      <th>quarter</th>\n",
       "      <th>realgdp</th>\n",
       "      <th>realcons</th>\n",
       "      <th>realinv</th>\n",
       "      <th>realgovt</th>\n",
       "      <th>realdpi</th>\n",
       "      <th>cpi</th>\n",
       "      <th>m1</th>\n",
       "      <th>tbilrate</th>\n",
       "      <th>unemp</th>\n",
       "      <th>pop</th>\n",
       "      <th>infl</th>\n",
       "      <th>realint</th>\n",
       "    </tr>\n",
       "  </thead>\n",
       "  <tbody>\n",
       "    <tr>\n",
       "      <th>0</th>\n",
       "      <td>1959</td>\n",
       "      <td>1</td>\n",
       "      <td>2710.349</td>\n",
       "      <td>1707.4</td>\n",
       "      <td>286.898</td>\n",
       "      <td>470.045</td>\n",
       "      <td>1886.9</td>\n",
       "      <td>28.98</td>\n",
       "      <td>139.7</td>\n",
       "      <td>2.82</td>\n",
       "      <td>5.8</td>\n",
       "      <td>177.146</td>\n",
       "      <td>0.00</td>\n",
       "      <td>0.00</td>\n",
       "    </tr>\n",
       "    <tr>\n",
       "      <th>1</th>\n",
       "      <td>1959</td>\n",
       "      <td>2</td>\n",
       "      <td>2778.801</td>\n",
       "      <td>1733.7</td>\n",
       "      <td>310.859</td>\n",
       "      <td>481.301</td>\n",
       "      <td>1919.7</td>\n",
       "      <td>29.15</td>\n",
       "      <td>141.7</td>\n",
       "      <td>3.08</td>\n",
       "      <td>5.1</td>\n",
       "      <td>177.830</td>\n",
       "      <td>2.34</td>\n",
       "      <td>0.74</td>\n",
       "    </tr>\n",
       "    <tr>\n",
       "      <th>2</th>\n",
       "      <td>1959</td>\n",
       "      <td>3</td>\n",
       "      <td>2775.488</td>\n",
       "      <td>1751.8</td>\n",
       "      <td>289.226</td>\n",
       "      <td>491.260</td>\n",
       "      <td>1916.4</td>\n",
       "      <td>29.35</td>\n",
       "      <td>140.5</td>\n",
       "      <td>3.82</td>\n",
       "      <td>5.3</td>\n",
       "      <td>178.657</td>\n",
       "      <td>2.74</td>\n",
       "      <td>1.09</td>\n",
       "    </tr>\n",
       "    <tr>\n",
       "      <th>3</th>\n",
       "      <td>1959</td>\n",
       "      <td>4</td>\n",
       "      <td>2785.204</td>\n",
       "      <td>1753.7</td>\n",
       "      <td>299.356</td>\n",
       "      <td>484.052</td>\n",
       "      <td>1931.3</td>\n",
       "      <td>29.37</td>\n",
       "      <td>140.0</td>\n",
       "      <td>4.33</td>\n",
       "      <td>5.6</td>\n",
       "      <td>179.386</td>\n",
       "      <td>0.27</td>\n",
       "      <td>4.06</td>\n",
       "    </tr>\n",
       "    <tr>\n",
       "      <th>4</th>\n",
       "      <td>1960</td>\n",
       "      <td>1</td>\n",
       "      <td>2847.699</td>\n",
       "      <td>1770.5</td>\n",
       "      <td>331.722</td>\n",
       "      <td>462.199</td>\n",
       "      <td>1955.5</td>\n",
       "      <td>29.54</td>\n",
       "      <td>139.6</td>\n",
       "      <td>3.50</td>\n",
       "      <td>5.2</td>\n",
       "      <td>180.007</td>\n",
       "      <td>2.31</td>\n",
       "      <td>1.19</td>\n",
       "    </tr>\n",
       "  </tbody>\n",
       "</table>\n",
       "</div>"
      ],
      "text/plain": [
       "   year  quarter   realgdp  realcons  realinv  realgovt  realdpi    cpi  \\\n",
       "0  1959        1  2710.349    1707.4  286.898   470.045   1886.9  28.98   \n",
       "1  1959        2  2778.801    1733.7  310.859   481.301   1919.7  29.15   \n",
       "2  1959        3  2775.488    1751.8  289.226   491.260   1916.4  29.35   \n",
       "3  1959        4  2785.204    1753.7  299.356   484.052   1931.3  29.37   \n",
       "4  1960        1  2847.699    1770.5  331.722   462.199   1955.5  29.54   \n",
       "\n",
       "      m1  tbilrate  unemp      pop  infl  realint  \n",
       "0  139.7      2.82    5.8  177.146  0.00     0.00  \n",
       "1  141.7      3.08    5.1  177.830  2.34     0.74  \n",
       "2  140.5      3.82    5.3  178.657  2.74     1.09  \n",
       "3  140.0      4.33    5.6  179.386  0.27     4.06  \n",
       "4  139.6      3.50    5.2  180.007  2.31     1.19  "
      ]
     },
     "execution_count": 67,
     "metadata": {},
     "output_type": "execute_result"
    }
   ],
   "source": [
    "macro = pd.read_csv(\"examples/macrodata.csv\")\n",
    "macro.head()"
   ]
  },
  {
   "cell_type": "code",
   "execution_count": 68,
   "id": "bd5b62a0-d42f-4008-ba9e-c4892aa04cab",
   "metadata": {},
   "outputs": [
    {
     "name": "stderr",
     "output_type": "stream",
     "text": [
      "E:\\Anaconda\\envs\\data\\Lib\\site-packages\\pandas\\core\\internals\\blocks.py:393: RuntimeWarning: divide by zero encountered in log\n",
      "  result = func(self.values, **kwargs)\n",
      "E:\\Anaconda\\envs\\data\\Lib\\site-packages\\pandas\\core\\internals\\blocks.py:393: RuntimeWarning: invalid value encountered in log\n",
      "  result = func(self.values, **kwargs)\n"
     ]
    }
   ],
   "source": [
    "macro_diff = np.log(macro).diff().dropna()"
   ]
  },
  {
   "cell_type": "code",
   "execution_count": 69,
   "id": "803aea70-20d9-480c-b328-553c79c99a7e",
   "metadata": {},
   "outputs": [
    {
     "data": {
      "text/html": [
       "<div>\n",
       "<style scoped>\n",
       "    .dataframe tbody tr th:only-of-type {\n",
       "        vertical-align: middle;\n",
       "    }\n",
       "\n",
       "    .dataframe tbody tr th {\n",
       "        vertical-align: top;\n",
       "    }\n",
       "\n",
       "    .dataframe thead th {\n",
       "        text-align: right;\n",
       "    }\n",
       "</style>\n",
       "<table border=\"1\" class=\"dataframe\">\n",
       "  <thead>\n",
       "    <tr style=\"text-align: right;\">\n",
       "      <th></th>\n",
       "      <th>cpi</th>\n",
       "      <th>m1</th>\n",
       "      <th>tbilrate</th>\n",
       "      <th>unemp</th>\n",
       "    </tr>\n",
       "  </thead>\n",
       "  <tbody>\n",
       "    <tr>\n",
       "      <th>1</th>\n",
       "      <td>0.005849</td>\n",
       "      <td>0.014215</td>\n",
       "      <td>0.088193</td>\n",
       "      <td>-0.128617</td>\n",
       "    </tr>\n",
       "    <tr>\n",
       "      <th>2</th>\n",
       "      <td>0.006838</td>\n",
       "      <td>-0.008505</td>\n",
       "      <td>0.215321</td>\n",
       "      <td>0.038466</td>\n",
       "    </tr>\n",
       "    <tr>\n",
       "      <th>3</th>\n",
       "      <td>0.000681</td>\n",
       "      <td>-0.003565</td>\n",
       "      <td>0.125317</td>\n",
       "      <td>0.055060</td>\n",
       "    </tr>\n",
       "    <tr>\n",
       "      <th>4</th>\n",
       "      <td>0.005772</td>\n",
       "      <td>-0.002861</td>\n",
       "      <td>-0.212805</td>\n",
       "      <td>-0.074108</td>\n",
       "    </tr>\n",
       "    <tr>\n",
       "      <th>5</th>\n",
       "      <td>0.000338</td>\n",
       "      <td>0.004289</td>\n",
       "      <td>-0.266946</td>\n",
       "      <td>0.000000</td>\n",
       "    </tr>\n",
       "    <tr>\n",
       "      <th>...</th>\n",
       "      <td>...</td>\n",
       "      <td>...</td>\n",
       "      <td>...</td>\n",
       "      <td>...</td>\n",
       "    </tr>\n",
       "    <tr>\n",
       "      <th>188</th>\n",
       "      <td>0.006498</td>\n",
       "      <td>-0.000072</td>\n",
       "      <td>0.120003</td>\n",
       "      <td>-0.041673</td>\n",
       "    </tr>\n",
       "    <tr>\n",
       "      <th>189</th>\n",
       "      <td>0.009916</td>\n",
       "      <td>-0.008219</td>\n",
       "      <td>0.066477</td>\n",
       "      <td>0.000000</td>\n",
       "    </tr>\n",
       "    <tr>\n",
       "      <th>192</th>\n",
       "      <td>0.011458</td>\n",
       "      <td>0.004431</td>\n",
       "      <td>0.006079</td>\n",
       "      <td>0.022473</td>\n",
       "    </tr>\n",
       "    <tr>\n",
       "      <th>193</th>\n",
       "      <td>0.006863</td>\n",
       "      <td>-0.007055</td>\n",
       "      <td>-0.047579</td>\n",
       "      <td>0.000000</td>\n",
       "    </tr>\n",
       "    <tr>\n",
       "      <th>194</th>\n",
       "      <td>0.008620</td>\n",
       "      <td>0.006693</td>\n",
       "      <td>-0.165514</td>\n",
       "      <td>0.043485</td>\n",
       "    </tr>\n",
       "  </tbody>\n",
       "</table>\n",
       "<p>121 rows × 4 columns</p>\n",
       "</div>"
      ],
      "text/plain": [
       "          cpi        m1  tbilrate     unemp\n",
       "1    0.005849  0.014215  0.088193 -0.128617\n",
       "2    0.006838 -0.008505  0.215321  0.038466\n",
       "3    0.000681 -0.003565  0.125317  0.055060\n",
       "4    0.005772 -0.002861 -0.212805 -0.074108\n",
       "5    0.000338  0.004289 -0.266946  0.000000\n",
       "..        ...       ...       ...       ...\n",
       "188  0.006498 -0.000072  0.120003 -0.041673\n",
       "189  0.009916 -0.008219  0.066477  0.000000\n",
       "192  0.011458  0.004431  0.006079  0.022473\n",
       "193  0.006863 -0.007055 -0.047579  0.000000\n",
       "194  0.008620  0.006693 -0.165514  0.043485\n",
       "\n",
       "[121 rows x 4 columns]"
      ]
     },
     "execution_count": 69,
     "metadata": {},
     "output_type": "execute_result"
    }
   ],
   "source": [
    "macro_data = macro_diff.iloc[:,7:11]\n",
    "macro_data"
   ]
  },
  {
   "cell_type": "code",
   "execution_count": 70,
   "id": "68e6026b-abef-4590-bc0b-00834376e3f8",
   "metadata": {},
   "outputs": [
    {
     "data": {
      "text/plain": [
       "<Axes: xlabel='m1', ylabel='unemp'>"
      ]
     },
     "execution_count": 70,
     "metadata": {},
     "output_type": "execute_result"
    },
    {
     "data": {
      "image/png": "[encoded data removed]",
      "text/plain": [
       "<Figure size 640x480 with 1 Axes>"
      ]
     },
     "metadata": {},
     "output_type": "display_data"
    }
   ],
   "source": [
    "sns.regplot(x=\"m1\", y='unemp', data=macro_data)"
   ]
  },
  {
   "cell_type": "code",
   "execution_count": 71,
   "id": "4b335894-32f1-4f90-87ad-3e9c6e8f60be",
   "metadata": {},
   "outputs": [
    {
     "data": {
      "text/plain": [
       "<seaborn.axisgrid.FacetGrid at 0x171d8ad7ed0>"
      ]
     },
     "execution_count": 71,
     "metadata": {},
     "output_type": "execute_result"
    },
    {
     "data": {
      "image/png": "[encoded data removed]",
      "text/plain": [
       "<Figure size 1011.11x1000 with 4 Axes>"
      ]
     },
     "metadata": {},
     "output_type": "display_data"
    }
   ],
   "source": [
    "data.head()\n",
    "sns.catplot(data=data, y=\"tip_pct\", x=\"day\", col=\"smoker\", kind=\"bar\", row=\"time\")"
   ]
  },
  {
   "cell_type": "code",
   "execution_count": 72,
   "id": "c4a48627-2469-4cc1-96d0-4b2de3a76528",
   "metadata": {},
   "outputs": [
    {
     "data": {
      "text/plain": [
       "<seaborn.axisgrid.PairGrid at 0x171d8c33790>"
      ]
     },
     "execution_count": 72,
     "metadata": {},
     "output_type": "execute_result"
    },
    {
     "data": {
      "image/png": "[encoded data removed]",
      "text/plain": [
       "<Figure size 1000x1000 with 20 Axes>"
      ]
     },
     "metadata": {},
     "output_type": "display_data"
    }
   ],
   "source": [
    "sns.pairplot(data=macro_data,diag_kind=\"kde\", plot_kws={\"alpha\": 0.3 })"
   ]
  },
  {
   "cell_type": "code",
   "execution_count": 73,
   "id": "c1a51193-eb79-4925-81c3-c3eb00ba1385",
   "metadata": {},
   "outputs": [
    {
     "data": {
      "text/html": [
       "<div>\n",
       "<style scoped>\n",
       "    .dataframe tbody tr th:only-of-type {\n",
       "        vertical-align: middle;\n",
       "    }\n",
       "\n",
       "    .dataframe tbody tr th {\n",
       "        vertical-align: top;\n",
       "    }\n",
       "\n",
       "    .dataframe thead tr th {\n",
       "        text-align: left;\n",
       "    }\n",
       "\n",
       "    .dataframe thead tr:last-of-type th {\n",
       "        text-align: right;\n",
       "    }\n",
       "</style>\n",
       "<table border=\"1\" class=\"dataframe\">\n",
       "  <thead>\n",
       "    <tr>\n",
       "      <th></th>\n",
       "      <th></th>\n",
       "      <th colspan=\"3\" halign=\"left\">tip_pct</th>\n",
       "      <th colspan=\"3\" halign=\"left\">total_bill</th>\n",
       "    </tr>\n",
       "    <tr>\n",
       "      <th></th>\n",
       "      <th></th>\n",
       "      <th>avg</th>\n",
       "      <th>count</th>\n",
       "      <th>std</th>\n",
       "      <th>avg</th>\n",
       "      <th>count</th>\n",
       "      <th>std</th>\n",
       "    </tr>\n",
       "    <tr>\n",
       "      <th>day</th>\n",
       "      <th>smoker</th>\n",
       "      <th></th>\n",
       "      <th></th>\n",
       "      <th></th>\n",
       "      <th></th>\n",
       "      <th></th>\n",
       "      <th></th>\n",
       "    </tr>\n",
       "  </thead>\n",
       "  <tbody>\n",
       "    <tr>\n",
       "      <th rowspan=\"2\" valign=\"top\">Fri</th>\n",
       "      <th>No</th>\n",
       "      <td>15.165044</td>\n",
       "      <td>4</td>\n",
       "      <td>2.812295</td>\n",
       "      <td>18.420000</td>\n",
       "      <td>4</td>\n",
       "      <td>5.059282</td>\n",
       "    </tr>\n",
       "    <tr>\n",
       "      <th>Yes</th>\n",
       "      <td>17.478305</td>\n",
       "      <td>15</td>\n",
       "      <td>5.129267</td>\n",
       "      <td>16.813333</td>\n",
       "      <td>15</td>\n",
       "      <td>9.086388</td>\n",
       "    </tr>\n",
       "    <tr>\n",
       "      <th rowspan=\"2\" valign=\"top\">Sat</th>\n",
       "      <th>No</th>\n",
       "      <td>15.804766</td>\n",
       "      <td>45</td>\n",
       "      <td>3.976730</td>\n",
       "      <td>19.661778</td>\n",
       "      <td>45</td>\n",
       "      <td>8.939181</td>\n",
       "    </tr>\n",
       "    <tr>\n",
       "      <th>Yes</th>\n",
       "      <td>14.790607</td>\n",
       "      <td>42</td>\n",
       "      <td>6.137495</td>\n",
       "      <td>21.276667</td>\n",
       "      <td>42</td>\n",
       "      <td>10.069138</td>\n",
       "    </tr>\n",
       "    <tr>\n",
       "      <th rowspan=\"2\" valign=\"top\">Sun</th>\n",
       "      <th>No</th>\n",
       "      <td>16.011294</td>\n",
       "      <td>57</td>\n",
       "      <td>4.234723</td>\n",
       "      <td>20.506667</td>\n",
       "      <td>57</td>\n",
       "      <td>8.130189</td>\n",
       "    </tr>\n",
       "    <tr>\n",
       "      <th>Yes</th>\n",
       "      <td>18.725032</td>\n",
       "      <td>19</td>\n",
       "      <td>15.413424</td>\n",
       "      <td>24.120000</td>\n",
       "      <td>19</td>\n",
       "      <td>10.442511</td>\n",
       "    </tr>\n",
       "    <tr>\n",
       "      <th rowspan=\"2\" valign=\"top\">Thur</th>\n",
       "      <th>No</th>\n",
       "      <td>16.029808</td>\n",
       "      <td>45</td>\n",
       "      <td>3.877420</td>\n",
       "      <td>17.113111</td>\n",
       "      <td>45</td>\n",
       "      <td>7.721728</td>\n",
       "    </tr>\n",
       "    <tr>\n",
       "      <th>Yes</th>\n",
       "      <td>16.386327</td>\n",
       "      <td>17</td>\n",
       "      <td>3.938881</td>\n",
       "      <td>19.190588</td>\n",
       "      <td>17</td>\n",
       "      <td>8.355149</td>\n",
       "    </tr>\n",
       "  </tbody>\n",
       "</table>\n",
       "</div>"
      ],
      "text/plain": [
       "               tip_pct                  total_bill                 \n",
       "                   avg count        std        avg count        std\n",
       "day  smoker                                                        \n",
       "Fri  No      15.165044     4   2.812295  18.420000     4   5.059282\n",
       "     Yes     17.478305    15   5.129267  16.813333    15   9.086388\n",
       "Sat  No      15.804766    45   3.976730  19.661778    45   8.939181\n",
       "     Yes     14.790607    42   6.137495  21.276667    42  10.069138\n",
       "Sun  No      16.011294    57   4.234723  20.506667    57   8.130189\n",
       "     Yes     18.725032    19  15.413424  24.120000    19  10.442511\n",
       "Thur No      16.029808    45   3.877420  17.113111    45   7.721728\n",
       "     Yes     16.386327    17   3.938881  19.190588    17   8.355149"
      ]
     },
     "execution_count": 73,
     "metadata": {},
     "output_type": "execute_result"
    }
   ],
   "source": [
    "data.groupby(['day', 'smoker'])[['tip_pct', \"total_bill\"]].agg([(\"avg\", \"mean\"), \"count\", \"std\"])"
   ]
  },
  {
   "cell_type": "code",
   "execution_count": 76,
   "id": "6499e0ba-070c-4d97-ad92-e84918492dc2",
   "metadata": {},
   "outputs": [],
   "source": [
    "import statsmodels.api as sm"
   ]
  },
  {
   "cell_type": "code",
   "execution_count": 78,
   "id": "9d60c818-359c-4628-99b6-24f33f13a336",
   "metadata": {},
   "outputs": [
    {
     "data": {
      "text/plain": [
       "statsmodels.regression.linear_model.OLS"
      ]
     },
     "execution_count": 78,
     "metadata": {},
     "output_type": "execute_result"
    }
   ],
   "source": [
    "sm.OLS"
   ]
  },
  {
   "cell_type": "code",
   "execution_count": 79,
   "id": "b546f9d5-26f7-4307-a641-a542b8cac066",
   "metadata": {},
   "outputs": [],
   "source": [
    "from datetime import datetime"
   ]
  },
  {
   "cell_type": "code",
   "execution_count": 88,
   "id": "619335c2-93a2-4136-ad3a-bb6fc4cec651",
   "metadata": {},
   "outputs": [
    {
     "ename": "ValueError",
     "evalue": "time data '6-3-2011' does not match format '%c'",
     "output_type": "error",
     "traceback": [
      "\u001b[1;31m---------------------------------------------------------------------------\u001b[0m",
      "\u001b[1;31mValueError\u001b[0m                                Traceback (most recent call last)",
      "Cell \u001b[1;32mIn[88], line 1\u001b[0m\n\u001b[1;32m----> 1\u001b[0m date \u001b[38;5;241m=\u001b[39m \u001b[43mdatetime\u001b[49m\u001b[38;5;241;43m.\u001b[39;49m\u001b[43mstrptime\u001b[49m\u001b[43m(\u001b[49m\u001b[38;5;124;43m\"\u001b[39;49m\u001b[38;5;124;43m6-3-2011\u001b[39;49m\u001b[38;5;124;43m\"\u001b[39;49m\u001b[43m,\u001b[49m\u001b[43m \u001b[49m\u001b[38;5;124;43m'\u001b[39;49m\u001b[38;5;132;43;01m%c\u001b[39;49;00m\u001b[38;5;124;43m'\u001b[39;49m\u001b[43m)\u001b[49m\n",
      "File \u001b[1;32mE:\\Anaconda\\envs\\data\\Lib\\_strptime.py:567\u001b[0m, in \u001b[0;36m_strptime_datetime\u001b[1;34m(cls, data_string, format)\u001b[0m\n\u001b[0;32m    564\u001b[0m \u001b[38;5;28;01mdef\u001b[39;00m \u001b[38;5;21m_strptime_datetime\u001b[39m(\u001b[38;5;28mcls\u001b[39m, data_string, \u001b[38;5;28mformat\u001b[39m\u001b[38;5;241m=\u001b[39m\u001b[38;5;124m\"\u001b[39m\u001b[38;5;132;01m%a\u001b[39;00m\u001b[38;5;124m \u001b[39m\u001b[38;5;124m%\u001b[39m\u001b[38;5;124mb \u001b[39m\u001b[38;5;132;01m%d\u001b[39;00m\u001b[38;5;124m \u001b[39m\u001b[38;5;124m%\u001b[39m\u001b[38;5;124mH:\u001b[39m\u001b[38;5;124m%\u001b[39m\u001b[38;5;124mM:\u001b[39m\u001b[38;5;124m%\u001b[39m\u001b[38;5;124mS \u001b[39m\u001b[38;5;124m%\u001b[39m\u001b[38;5;124mY\u001b[39m\u001b[38;5;124m\"\u001b[39m):\n\u001b[0;32m    565\u001b[0m \u001b[38;5;250m    \u001b[39m\u001b[38;5;124;03m\"\"\"Return a class cls instance based on the input string and the\u001b[39;00m\n\u001b[0;32m    566\u001b[0m \u001b[38;5;124;03m    format string.\"\"\"\u001b[39;00m\n\u001b[1;32m--> 567\u001b[0m     tt, fraction, gmtoff_fraction \u001b[38;5;241m=\u001b[39m \u001b[43m_strptime\u001b[49m\u001b[43m(\u001b[49m\u001b[43mdata_string\u001b[49m\u001b[43m,\u001b[49m\u001b[43m \u001b[49m\u001b[38;5;28;43mformat\u001b[39;49m\u001b[43m)\u001b[49m\n\u001b[0;32m    568\u001b[0m     tzname, gmtoff \u001b[38;5;241m=\u001b[39m tt[\u001b[38;5;241m-\u001b[39m\u001b[38;5;241m2\u001b[39m:]\n\u001b[0;32m    569\u001b[0m     args \u001b[38;5;241m=\u001b[39m tt[:\u001b[38;5;241m6\u001b[39m] \u001b[38;5;241m+\u001b[39m (fraction,)\n",
      "File \u001b[1;32mE:\\Anaconda\\envs\\data\\Lib\\_strptime.py:349\u001b[0m, in \u001b[0;36m_strptime\u001b[1;34m(data_string, format)\u001b[0m\n\u001b[0;32m    347\u001b[0m found \u001b[38;5;241m=\u001b[39m format_regex\u001b[38;5;241m.\u001b[39mmatch(data_string)\n\u001b[0;32m    348\u001b[0m \u001b[38;5;28;01mif\u001b[39;00m \u001b[38;5;129;01mnot\u001b[39;00m found:\n\u001b[1;32m--> 349\u001b[0m     \u001b[38;5;28;01mraise\u001b[39;00m \u001b[38;5;167;01mValueError\u001b[39;00m(\u001b[38;5;124m\"\u001b[39m\u001b[38;5;124mtime data \u001b[39m\u001b[38;5;132;01m%r\u001b[39;00m\u001b[38;5;124m does not match format \u001b[39m\u001b[38;5;132;01m%r\u001b[39;00m\u001b[38;5;124m\"\u001b[39m \u001b[38;5;241m%\u001b[39m\n\u001b[0;32m    350\u001b[0m                      (data_string, \u001b[38;5;28mformat\u001b[39m))\n\u001b[0;32m    351\u001b[0m \u001b[38;5;28;01mif\u001b[39;00m \u001b[38;5;28mlen\u001b[39m(data_string) \u001b[38;5;241m!=\u001b[39m found\u001b[38;5;241m.\u001b[39mend():\n\u001b[0;32m    352\u001b[0m     \u001b[38;5;28;01mraise\u001b[39;00m \u001b[38;5;167;01mValueError\u001b[39;00m(\u001b[38;5;124m\"\u001b[39m\u001b[38;5;124munconverted data remains: \u001b[39m\u001b[38;5;132;01m%s\u001b[39;00m\u001b[38;5;124m\"\u001b[39m \u001b[38;5;241m%\u001b[39m\n\u001b[0;32m    353\u001b[0m                       data_string[found\u001b[38;5;241m.\u001b[39mend():])\n",
      "\u001b[1;31mValueError\u001b[0m: time data '6-3-2011' does not match format '%c'"
     ]
    }
   ],
   "source": [
    "date = datetime.strptime(\"6-3-2011\", '%c')"
   ]
  },
  {
   "cell_type": "code",
   "execution_count": 100,
   "id": "6e608700-b92b-40e6-bc84-c0d9765b8545",
   "metadata": {},
   "outputs": [
    {
     "data": {
      "text/plain": [
       "DatetimeIndex(['1990-02-01', '1990-02-02', '1990-02-05', '1990-02-06',\n",
       "               '1990-02-07', '1990-02-08', '1990-02-09', '1990-02-12',\n",
       "               '1990-02-13', '1990-02-14',\n",
       "               ...\n",
       "               '2011-10-03', '2011-10-04', '2011-10-05', '2011-10-06',\n",
       "               '2011-10-07', '2011-10-10', '2011-10-11', '2011-10-12',\n",
       "               '2011-10-13', '2011-10-14'],\n",
       "              dtype='datetime64[ns]', name='Date', length=5472, freq=None)"
      ]
     },
     "execution_count": 100,
     "metadata": {},
     "output_type": "execute_result"
    }
   ],
   "source": [
    "financial_data.index"
   ]
  },
  {
   "cell_type": "code",
   "execution_count": 115,
   "id": "e6fd07a5-f878-428d-aab3-7dcc904e5897",
   "metadata": {},
   "outputs": [
    {
     "data": {
      "text/html": [
       "<div>\n",
       "<style scoped>\n",
       "    .dataframe tbody tr th:only-of-type {\n",
       "        vertical-align: middle;\n",
       "    }\n",
       "\n",
       "    .dataframe tbody tr th {\n",
       "        vertical-align: top;\n",
       "    }\n",
       "\n",
       "    .dataframe thead th {\n",
       "        text-align: right;\n",
       "    }\n",
       "</style>\n",
       "<table border=\"1\" class=\"dataframe\">\n",
       "  <thead>\n",
       "    <tr style=\"text-align: right;\">\n",
       "      <th>Comp</th>\n",
       "      <th>AAPL</th>\n",
       "      <th>GOOG</th>\n",
       "      <th>IBM</th>\n",
       "      <th>MSFT</th>\n",
       "    </tr>\n",
       "    <tr>\n",
       "      <th>Date</th>\n",
       "      <th></th>\n",
       "      <th></th>\n",
       "      <th></th>\n",
       "      <th></th>\n",
       "    </tr>\n",
       "  </thead>\n",
       "  <tbody>\n",
       "    <tr>\n",
       "      <th>2010-01-04</th>\n",
       "      <td>27.990226</td>\n",
       "      <td>313.062468</td>\n",
       "      <td>113.304536</td>\n",
       "      <td>25.884104</td>\n",
       "    </tr>\n",
       "    <tr>\n",
       "      <th>2010-01-05</th>\n",
       "      <td>28.038618</td>\n",
       "      <td>311.683844</td>\n",
       "      <td>111.935822</td>\n",
       "      <td>25.892466</td>\n",
       "    </tr>\n",
       "    <tr>\n",
       "      <th>2010-01-06</th>\n",
       "      <td>27.592626</td>\n",
       "      <td>303.826685</td>\n",
       "      <td>111.208683</td>\n",
       "      <td>25.733566</td>\n",
       "    </tr>\n",
       "    <tr>\n",
       "      <th>2010-01-07</th>\n",
       "      <td>27.541619</td>\n",
       "      <td>296.753749</td>\n",
       "      <td>110.823732</td>\n",
       "      <td>25.465944</td>\n",
       "    </tr>\n",
       "    <tr>\n",
       "      <th>2010-01-08</th>\n",
       "      <td>27.724725</td>\n",
       "      <td>300.709808</td>\n",
       "      <td>111.935822</td>\n",
       "      <td>25.641571</td>\n",
       "    </tr>\n",
       "  </tbody>\n",
       "</table>\n",
       "</div>"
      ],
      "text/plain": [
       "Comp             AAPL        GOOG         IBM       MSFT\n",
       "Date                                                    \n",
       "2010-01-04  27.990226  313.062468  113.304536  25.884104\n",
       "2010-01-05  28.038618  311.683844  111.935822  25.892466\n",
       "2010-01-06  27.592626  303.826685  111.208683  25.733566\n",
       "2010-01-07  27.541619  296.753749  110.823732  25.465944\n",
       "2010-01-08  27.724725  300.709808  111.935822  25.641571"
      ]
     },
     "execution_count": 115,
     "metadata": {},
     "output_type": "execute_result"
    }
   ],
   "source": [
    "stocks.head()"
   ]
  },
  {
   "cell_type": "code",
   "execution_count": 123,
   "id": "006a43a8-8ab8-4c5f-99d8-478f6e1e4db1",
   "metadata": {},
   "outputs": [
    {
     "data": {
      "text/plain": [
       "<Axes: xlabel='Date'>"
      ]
     },
     "execution_count": 123,
     "metadata": {},
     "output_type": "execute_result"
    },
    {
     "data": {
      "image/png": "[encoded data removed]",
      "text/plain": [
       "<Figure size 640x480 with 1 Axes>"
      ]
     },
     "metadata": {},
     "output_type": "display_data"
    }
   ],
   "source": [
    "stocks.pct_change()[\"AAPL\"].plot()"
   ]
  },
  {
   "cell_type": "code",
   "execution_count": 127,
   "id": "55442e0c-1ccb-4428-ba39-95006e12569c",
   "metadata": {},
   "outputs": [
    {
     "data": {
      "text/html": [
       "<div>\n",
       "<style scoped>\n",
       "    .dataframe tbody tr th:only-of-type {\n",
       "        vertical-align: middle;\n",
       "    }\n",
       "\n",
       "    .dataframe tbody tr th {\n",
       "        vertical-align: top;\n",
       "    }\n",
       "\n",
       "    .dataframe thead th {\n",
       "        text-align: right;\n",
       "    }\n",
       "</style>\n",
       "<table border=\"1\" class=\"dataframe\">\n",
       "  <thead>\n",
       "    <tr style=\"text-align: right;\">\n",
       "      <th>Comp</th>\n",
       "      <th>AAPL</th>\n",
       "      <th>GOOG</th>\n",
       "      <th>IBM</th>\n",
       "      <th>MSFT</th>\n",
       "    </tr>\n",
       "    <tr>\n",
       "      <th>Date</th>\n",
       "      <th></th>\n",
       "      <th></th>\n",
       "      <th></th>\n",
       "      <th></th>\n",
       "    </tr>\n",
       "  </thead>\n",
       "  <tbody>\n",
       "    <tr>\n",
       "      <th>2010-01-04</th>\n",
       "      <td>55.980452</td>\n",
       "      <td>626.124936</td>\n",
       "      <td>226.609072</td>\n",
       "      <td>51.768208</td>\n",
       "    </tr>\n",
       "    <tr>\n",
       "      <th>2010-01-05</th>\n",
       "      <td>NaN</td>\n",
       "      <td>NaN</td>\n",
       "      <td>NaN</td>\n",
       "      <td>NaN</td>\n",
       "    </tr>\n",
       "    <tr>\n",
       "      <th>2010-01-06</th>\n",
       "      <td>55.185252</td>\n",
       "      <td>607.653370</td>\n",
       "      <td>222.417366</td>\n",
       "      <td>51.467132</td>\n",
       "    </tr>\n",
       "    <tr>\n",
       "      <th>2010-01-07</th>\n",
       "      <td>NaN</td>\n",
       "      <td>NaN</td>\n",
       "      <td>NaN</td>\n",
       "      <td>NaN</td>\n",
       "    </tr>\n",
       "    <tr>\n",
       "      <th>2010-01-08</th>\n",
       "      <td>55.449450</td>\n",
       "      <td>601.419616</td>\n",
       "      <td>223.871644</td>\n",
       "      <td>51.283142</td>\n",
       "    </tr>\n",
       "    <tr>\n",
       "      <th>...</th>\n",
       "      <td>...</td>\n",
       "      <td>...</td>\n",
       "      <td>...</td>\n",
       "      <td>...</td>\n",
       "    </tr>\n",
       "    <tr>\n",
       "      <th>2016-10-17</th>\n",
       "      <td>NaN</td>\n",
       "      <td>NaN</td>\n",
       "      <td>NaN</td>\n",
       "      <td>NaN</td>\n",
       "    </tr>\n",
       "    <tr>\n",
       "      <th>2016-10-18</th>\n",
       "      <td>234.940002</td>\n",
       "      <td>1590.520020</td>\n",
       "      <td>301.440002</td>\n",
       "      <td>115.320000</td>\n",
       "    </tr>\n",
       "    <tr>\n",
       "      <th>2016-10-19</th>\n",
       "      <td>NaN</td>\n",
       "      <td>NaN</td>\n",
       "      <td>NaN</td>\n",
       "      <td>NaN</td>\n",
       "    </tr>\n",
       "    <tr>\n",
       "      <th>2016-10-20</th>\n",
       "      <td>234.119996</td>\n",
       "      <td>1593.939942</td>\n",
       "      <td>303.040008</td>\n",
       "      <td>114.500000</td>\n",
       "    </tr>\n",
       "    <tr>\n",
       "      <th>2016-10-21</th>\n",
       "      <td>NaN</td>\n",
       "      <td>NaN</td>\n",
       "      <td>NaN</td>\n",
       "      <td>NaN</td>\n",
       "    </tr>\n",
       "  </tbody>\n",
       "</table>\n",
       "<p>1714 rows × 4 columns</p>\n",
       "</div>"
      ],
      "text/plain": [
       "Comp              AAPL         GOOG         IBM        MSFT\n",
       "Date                                                       \n",
       "2010-01-04   55.980452   626.124936  226.609072   51.768208\n",
       "2010-01-05         NaN          NaN         NaN         NaN\n",
       "2010-01-06   55.185252   607.653370  222.417366   51.467132\n",
       "2010-01-07         NaN          NaN         NaN         NaN\n",
       "2010-01-08   55.449450   601.419616  223.871644   51.283142\n",
       "...                ...          ...         ...         ...\n",
       "2016-10-17         NaN          NaN         NaN         NaN\n",
       "2016-10-18  234.940002  1590.520020  301.440002  115.320000\n",
       "2016-10-19         NaN          NaN         NaN         NaN\n",
       "2016-10-20  234.119996  1593.939942  303.040008  114.500000\n",
       "2016-10-21         NaN          NaN         NaN         NaN\n",
       "\n",
       "[1714 rows x 4 columns]"
      ]
     },
     "execution_count": 127,
     "metadata": {},
     "output_type": "execute_result"
    }
   ],
   "source": [
    "stocks[::2] + stocks"
   ]
  },
  {
   "cell_type": "code",
   "execution_count": 130,
   "id": "1c1e1a73-e323-4aae-9d14-070dc530cf49",
   "metadata": {},
   "outputs": [
    {
     "data": {
      "text/plain": [
       "Timestamp('2010-01-04 00:00:00')"
      ]
     },
     "execution_count": 130,
     "metadata": {},
     "output_type": "execute_result"
    }
   ],
   "source": [
    "stocks.index[0]"
   ]
  }
 ],
 "metadata": {
  "kernelspec": {
   "display_name": "Python 3 (ipykernel)",
   "language": "python",
   "name": "python3"
  },
  "language_info": {
   "codemirror_mode": {
    "name": "ipython",
    "version": 3
   },
   "file_extension": ".py",
   "mimetype": "text/x-python",
   "name": "python",
   "nbconvert_exporter": "python",
   "pygments_lexer": "ipython3",
   "version": "3.11.8"
  }
 },
 "nbformat": 4,
 "nbformat_minor": 5
}
